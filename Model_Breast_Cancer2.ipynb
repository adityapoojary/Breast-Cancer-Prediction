{
 "cells": [
  {
   "cell_type": "markdown",
   "id": "28c32454",
   "metadata": {},
   "source": [
    "# Data Preprocessing"
   ]
  },
  {
   "cell_type": "code",
   "execution_count": 49,
   "id": "6a7c8dc3",
   "metadata": {},
   "outputs": [],
   "source": [
    "# Python libraries\n",
    "import pandas as pd\n",
    "import numpy as np\n",
    "import seaborn as sns\n",
    "import matplotlib.pyplot as plt\n",
    "import math\n",
    "import time\n",
    "%matplotlib inline\n",
    "import itertools\n",
    "from itertools import chain\n",
    "from sklearn.feature_selection import RFE\n",
    "from sklearn.decomposition import PCA\n",
    "from sklearn.preprocessing import StandardScaler\n",
    "from sklearn.linear_model import LogisticRegression\n",
    "from sklearn.ensemble import VotingClassifier\n",
    "from sklearn.model_selection import GridSearchCV, cross_val_score, learning_curve, train_test_split,StratifiedKFold\n",
    "from sklearn.metrics import precision_score, recall_score, confusion_matrix, roc_curve, precision_recall_curve, accuracy_score,auc,classification_report,log_loss,mean_absolute_error,mean_squared_error,r2_score,cohen_kappa_score,mean_absolute_percentage_error,f1_score\n",
    "import warnings\n",
    "pd.set_option(\"display.max_columns\",None)\n",
    "warnings.filterwarnings('ignore') #ignore warning messages "
   ]
  },
  {
   "cell_type": "code",
   "execution_count": 2,
   "id": "0ec92ae3",
   "metadata": {},
   "outputs": [],
   "source": [
    "df = pd.read_csv(\"E:/College Stuff/Sem 4/data.csv\")"
   ]
  },
  {
   "cell_type": "code",
   "execution_count": 81,
   "id": "38f13052",
   "metadata": {},
   "outputs": [
    {
     "data": {
      "text/html": [
       "<div>\n",
       "<style scoped>\n",
       "    .dataframe tbody tr th:only-of-type {\n",
       "        vertical-align: middle;\n",
       "    }\n",
       "\n",
       "    .dataframe tbody tr th {\n",
       "        vertical-align: top;\n",
       "    }\n",
       "\n",
       "    .dataframe thead th {\n",
       "        text-align: right;\n",
       "    }\n",
       "</style>\n",
       "<table border=\"1\" class=\"dataframe\">\n",
       "  <thead>\n",
       "    <tr style=\"text-align: right;\">\n",
       "      <th></th>\n",
       "      <th>diagnosis</th>\n",
       "      <th>radius_mean</th>\n",
       "      <th>texture_mean</th>\n",
       "      <th>perimeter_mean</th>\n",
       "      <th>area_mean</th>\n",
       "      <th>smoothness_mean</th>\n",
       "      <th>compactness_mean</th>\n",
       "      <th>concavity_mean</th>\n",
       "      <th>concave points_mean</th>\n",
       "      <th>symmetry_mean</th>\n",
       "      <th>fractal_dimension_mean</th>\n",
       "      <th>radius_se</th>\n",
       "      <th>texture_se</th>\n",
       "      <th>perimeter_se</th>\n",
       "      <th>area_se</th>\n",
       "      <th>smoothness_se</th>\n",
       "      <th>compactness_se</th>\n",
       "      <th>concavity_se</th>\n",
       "      <th>concave points_se</th>\n",
       "      <th>symmetry_se</th>\n",
       "      <th>fractal_dimension_se</th>\n",
       "      <th>radius_worst</th>\n",
       "      <th>texture_worst</th>\n",
       "      <th>perimeter_worst</th>\n",
       "      <th>area_worst</th>\n",
       "      <th>smoothness_worst</th>\n",
       "      <th>compactness_worst</th>\n",
       "      <th>concavity_worst</th>\n",
       "      <th>concave points_worst</th>\n",
       "      <th>symmetry_worst</th>\n",
       "      <th>fractal_dimension_worst</th>\n",
       "    </tr>\n",
       "  </thead>\n",
       "  <tbody>\n",
       "    <tr>\n",
       "      <th>19</th>\n",
       "      <td>0</td>\n",
       "      <td>13.540</td>\n",
       "      <td>14.36</td>\n",
       "      <td>87.46</td>\n",
       "      <td>566.3</td>\n",
       "      <td>0.09779</td>\n",
       "      <td>0.08129</td>\n",
       "      <td>0.06664</td>\n",
       "      <td>0.047810</td>\n",
       "      <td>0.1885</td>\n",
       "      <td>0.05766</td>\n",
       "      <td>0.2699</td>\n",
       "      <td>0.7886</td>\n",
       "      <td>2.058</td>\n",
       "      <td>23.560</td>\n",
       "      <td>0.008462</td>\n",
       "      <td>0.014600</td>\n",
       "      <td>0.02387</td>\n",
       "      <td>0.013150</td>\n",
       "      <td>0.01980</td>\n",
       "      <td>0.002300</td>\n",
       "      <td>15.110</td>\n",
       "      <td>19.26</td>\n",
       "      <td>99.70</td>\n",
       "      <td>711.2</td>\n",
       "      <td>0.14400</td>\n",
       "      <td>0.17730</td>\n",
       "      <td>0.23900</td>\n",
       "      <td>0.12880</td>\n",
       "      <td>0.2977</td>\n",
       "      <td>0.07259</td>\n",
       "    </tr>\n",
       "    <tr>\n",
       "      <th>20</th>\n",
       "      <td>0</td>\n",
       "      <td>13.080</td>\n",
       "      <td>15.71</td>\n",
       "      <td>85.63</td>\n",
       "      <td>520.0</td>\n",
       "      <td>0.10750</td>\n",
       "      <td>0.12700</td>\n",
       "      <td>0.04568</td>\n",
       "      <td>0.031100</td>\n",
       "      <td>0.1967</td>\n",
       "      <td>0.06811</td>\n",
       "      <td>0.1852</td>\n",
       "      <td>0.7477</td>\n",
       "      <td>1.383</td>\n",
       "      <td>14.670</td>\n",
       "      <td>0.004097</td>\n",
       "      <td>0.018980</td>\n",
       "      <td>0.01698</td>\n",
       "      <td>0.006490</td>\n",
       "      <td>0.01678</td>\n",
       "      <td>0.002425</td>\n",
       "      <td>14.500</td>\n",
       "      <td>20.49</td>\n",
       "      <td>96.09</td>\n",
       "      <td>630.5</td>\n",
       "      <td>0.13120</td>\n",
       "      <td>0.27760</td>\n",
       "      <td>0.18900</td>\n",
       "      <td>0.07283</td>\n",
       "      <td>0.3184</td>\n",
       "      <td>0.08183</td>\n",
       "    </tr>\n",
       "    <tr>\n",
       "      <th>21</th>\n",
       "      <td>0</td>\n",
       "      <td>9.504</td>\n",
       "      <td>12.44</td>\n",
       "      <td>60.34</td>\n",
       "      <td>273.9</td>\n",
       "      <td>0.10240</td>\n",
       "      <td>0.06492</td>\n",
       "      <td>0.02956</td>\n",
       "      <td>0.020760</td>\n",
       "      <td>0.1815</td>\n",
       "      <td>0.06905</td>\n",
       "      <td>0.2773</td>\n",
       "      <td>0.9768</td>\n",
       "      <td>1.909</td>\n",
       "      <td>15.700</td>\n",
       "      <td>0.009606</td>\n",
       "      <td>0.014320</td>\n",
       "      <td>0.01985</td>\n",
       "      <td>0.014210</td>\n",
       "      <td>0.02027</td>\n",
       "      <td>0.002968</td>\n",
       "      <td>10.230</td>\n",
       "      <td>15.66</td>\n",
       "      <td>65.13</td>\n",
       "      <td>314.9</td>\n",
       "      <td>0.13240</td>\n",
       "      <td>0.11480</td>\n",
       "      <td>0.08867</td>\n",
       "      <td>0.06227</td>\n",
       "      <td>0.2450</td>\n",
       "      <td>0.07773</td>\n",
       "    </tr>\n",
       "    <tr>\n",
       "      <th>37</th>\n",
       "      <td>0</td>\n",
       "      <td>13.030</td>\n",
       "      <td>18.42</td>\n",
       "      <td>82.61</td>\n",
       "      <td>523.8</td>\n",
       "      <td>0.08983</td>\n",
       "      <td>0.03766</td>\n",
       "      <td>0.02562</td>\n",
       "      <td>0.029230</td>\n",
       "      <td>0.1467</td>\n",
       "      <td>0.05863</td>\n",
       "      <td>0.1839</td>\n",
       "      <td>2.3420</td>\n",
       "      <td>1.170</td>\n",
       "      <td>14.160</td>\n",
       "      <td>0.004352</td>\n",
       "      <td>0.004899</td>\n",
       "      <td>0.01343</td>\n",
       "      <td>0.011640</td>\n",
       "      <td>0.02671</td>\n",
       "      <td>0.001777</td>\n",
       "      <td>13.300</td>\n",
       "      <td>22.81</td>\n",
       "      <td>84.46</td>\n",
       "      <td>545.9</td>\n",
       "      <td>0.09701</td>\n",
       "      <td>0.04619</td>\n",
       "      <td>0.04833</td>\n",
       "      <td>0.05013</td>\n",
       "      <td>0.1987</td>\n",
       "      <td>0.06169</td>\n",
       "    </tr>\n",
       "    <tr>\n",
       "      <th>46</th>\n",
       "      <td>0</td>\n",
       "      <td>8.196</td>\n",
       "      <td>16.84</td>\n",
       "      <td>51.71</td>\n",
       "      <td>201.9</td>\n",
       "      <td>0.08600</td>\n",
       "      <td>0.05943</td>\n",
       "      <td>0.01588</td>\n",
       "      <td>0.005917</td>\n",
       "      <td>0.1769</td>\n",
       "      <td>0.06503</td>\n",
       "      <td>0.1563</td>\n",
       "      <td>0.9567</td>\n",
       "      <td>1.094</td>\n",
       "      <td>8.205</td>\n",
       "      <td>0.008968</td>\n",
       "      <td>0.016460</td>\n",
       "      <td>0.01588</td>\n",
       "      <td>0.005917</td>\n",
       "      <td>0.02574</td>\n",
       "      <td>0.002582</td>\n",
       "      <td>8.964</td>\n",
       "      <td>21.96</td>\n",
       "      <td>57.26</td>\n",
       "      <td>242.2</td>\n",
       "      <td>0.12970</td>\n",
       "      <td>0.13570</td>\n",
       "      <td>0.06880</td>\n",
       "      <td>0.02564</td>\n",
       "      <td>0.3105</td>\n",
       "      <td>0.07409</td>\n",
       "    </tr>\n",
       "    <tr>\n",
       "      <th>...</th>\n",
       "      <td>...</td>\n",
       "      <td>...</td>\n",
       "      <td>...</td>\n",
       "      <td>...</td>\n",
       "      <td>...</td>\n",
       "      <td>...</td>\n",
       "      <td>...</td>\n",
       "      <td>...</td>\n",
       "      <td>...</td>\n",
       "      <td>...</td>\n",
       "      <td>...</td>\n",
       "      <td>...</td>\n",
       "      <td>...</td>\n",
       "      <td>...</td>\n",
       "      <td>...</td>\n",
       "      <td>...</td>\n",
       "      <td>...</td>\n",
       "      <td>...</td>\n",
       "      <td>...</td>\n",
       "      <td>...</td>\n",
       "      <td>...</td>\n",
       "      <td>...</td>\n",
       "      <td>...</td>\n",
       "      <td>...</td>\n",
       "      <td>...</td>\n",
       "      <td>...</td>\n",
       "      <td>...</td>\n",
       "      <td>...</td>\n",
       "      <td>...</td>\n",
       "      <td>...</td>\n",
       "      <td>...</td>\n",
       "    </tr>\n",
       "    <tr>\n",
       "      <th>558</th>\n",
       "      <td>0</td>\n",
       "      <td>14.590</td>\n",
       "      <td>22.68</td>\n",
       "      <td>96.39</td>\n",
       "      <td>657.1</td>\n",
       "      <td>0.08473</td>\n",
       "      <td>0.13300</td>\n",
       "      <td>0.10290</td>\n",
       "      <td>0.037360</td>\n",
       "      <td>0.1454</td>\n",
       "      <td>0.06147</td>\n",
       "      <td>0.2254</td>\n",
       "      <td>1.1080</td>\n",
       "      <td>2.224</td>\n",
       "      <td>19.540</td>\n",
       "      <td>0.004242</td>\n",
       "      <td>0.046390</td>\n",
       "      <td>0.06578</td>\n",
       "      <td>0.016060</td>\n",
       "      <td>0.01638</td>\n",
       "      <td>0.004406</td>\n",
       "      <td>15.480</td>\n",
       "      <td>27.27</td>\n",
       "      <td>105.90</td>\n",
       "      <td>733.5</td>\n",
       "      <td>0.10260</td>\n",
       "      <td>0.31710</td>\n",
       "      <td>0.36620</td>\n",
       "      <td>0.11050</td>\n",
       "      <td>0.2258</td>\n",
       "      <td>0.08004</td>\n",
       "    </tr>\n",
       "    <tr>\n",
       "      <th>559</th>\n",
       "      <td>0</td>\n",
       "      <td>11.510</td>\n",
       "      <td>23.93</td>\n",
       "      <td>74.52</td>\n",
       "      <td>403.5</td>\n",
       "      <td>0.09261</td>\n",
       "      <td>0.10210</td>\n",
       "      <td>0.11120</td>\n",
       "      <td>0.041050</td>\n",
       "      <td>0.1388</td>\n",
       "      <td>0.06570</td>\n",
       "      <td>0.2388</td>\n",
       "      <td>2.9040</td>\n",
       "      <td>1.936</td>\n",
       "      <td>16.970</td>\n",
       "      <td>0.008200</td>\n",
       "      <td>0.029820</td>\n",
       "      <td>0.05738</td>\n",
       "      <td>0.012670</td>\n",
       "      <td>0.01488</td>\n",
       "      <td>0.004738</td>\n",
       "      <td>12.480</td>\n",
       "      <td>37.16</td>\n",
       "      <td>82.28</td>\n",
       "      <td>474.2</td>\n",
       "      <td>0.12980</td>\n",
       "      <td>0.25170</td>\n",
       "      <td>0.36300</td>\n",
       "      <td>0.09653</td>\n",
       "      <td>0.2112</td>\n",
       "      <td>0.08732</td>\n",
       "    </tr>\n",
       "    <tr>\n",
       "      <th>560</th>\n",
       "      <td>0</td>\n",
       "      <td>14.050</td>\n",
       "      <td>27.15</td>\n",
       "      <td>91.38</td>\n",
       "      <td>600.4</td>\n",
       "      <td>0.09929</td>\n",
       "      <td>0.11260</td>\n",
       "      <td>0.04462</td>\n",
       "      <td>0.043040</td>\n",
       "      <td>0.1537</td>\n",
       "      <td>0.06171</td>\n",
       "      <td>0.3645</td>\n",
       "      <td>1.4920</td>\n",
       "      <td>2.888</td>\n",
       "      <td>29.840</td>\n",
       "      <td>0.007256</td>\n",
       "      <td>0.026780</td>\n",
       "      <td>0.02071</td>\n",
       "      <td>0.016260</td>\n",
       "      <td>0.02080</td>\n",
       "      <td>0.005304</td>\n",
       "      <td>15.300</td>\n",
       "      <td>33.17</td>\n",
       "      <td>100.20</td>\n",
       "      <td>706.7</td>\n",
       "      <td>0.12410</td>\n",
       "      <td>0.22640</td>\n",
       "      <td>0.13260</td>\n",
       "      <td>0.10480</td>\n",
       "      <td>0.2250</td>\n",
       "      <td>0.08321</td>\n",
       "    </tr>\n",
       "    <tr>\n",
       "      <th>561</th>\n",
       "      <td>0</td>\n",
       "      <td>11.200</td>\n",
       "      <td>29.37</td>\n",
       "      <td>70.67</td>\n",
       "      <td>386.0</td>\n",
       "      <td>0.07449</td>\n",
       "      <td>0.03558</td>\n",
       "      <td>0.00000</td>\n",
       "      <td>0.000000</td>\n",
       "      <td>0.1060</td>\n",
       "      <td>0.05502</td>\n",
       "      <td>0.3141</td>\n",
       "      <td>3.8960</td>\n",
       "      <td>2.041</td>\n",
       "      <td>22.810</td>\n",
       "      <td>0.007594</td>\n",
       "      <td>0.008878</td>\n",
       "      <td>0.00000</td>\n",
       "      <td>0.000000</td>\n",
       "      <td>0.01989</td>\n",
       "      <td>0.001773</td>\n",
       "      <td>11.920</td>\n",
       "      <td>38.30</td>\n",
       "      <td>75.19</td>\n",
       "      <td>439.6</td>\n",
       "      <td>0.09267</td>\n",
       "      <td>0.05494</td>\n",
       "      <td>0.00000</td>\n",
       "      <td>0.00000</td>\n",
       "      <td>0.1566</td>\n",
       "      <td>0.05905</td>\n",
       "    </tr>\n",
       "    <tr>\n",
       "      <th>568</th>\n",
       "      <td>0</td>\n",
       "      <td>7.760</td>\n",
       "      <td>24.54</td>\n",
       "      <td>47.92</td>\n",
       "      <td>181.0</td>\n",
       "      <td>0.05263</td>\n",
       "      <td>0.04362</td>\n",
       "      <td>0.00000</td>\n",
       "      <td>0.000000</td>\n",
       "      <td>0.1587</td>\n",
       "      <td>0.05884</td>\n",
       "      <td>0.3857</td>\n",
       "      <td>1.4280</td>\n",
       "      <td>2.548</td>\n",
       "      <td>19.150</td>\n",
       "      <td>0.007189</td>\n",
       "      <td>0.004660</td>\n",
       "      <td>0.00000</td>\n",
       "      <td>0.000000</td>\n",
       "      <td>0.02676</td>\n",
       "      <td>0.002783</td>\n",
       "      <td>9.456</td>\n",
       "      <td>30.37</td>\n",
       "      <td>59.16</td>\n",
       "      <td>268.6</td>\n",
       "      <td>0.08996</td>\n",
       "      <td>0.06444</td>\n",
       "      <td>0.00000</td>\n",
       "      <td>0.00000</td>\n",
       "      <td>0.2871</td>\n",
       "      <td>0.07039</td>\n",
       "    </tr>\n",
       "  </tbody>\n",
       "</table>\n",
       "<p>357 rows × 31 columns</p>\n",
       "</div>"
      ],
      "text/plain": [
       "     diagnosis  radius_mean  texture_mean  perimeter_mean  area_mean  \\\n",
       "19           0       13.540         14.36           87.46      566.3   \n",
       "20           0       13.080         15.71           85.63      520.0   \n",
       "21           0        9.504         12.44           60.34      273.9   \n",
       "37           0       13.030         18.42           82.61      523.8   \n",
       "46           0        8.196         16.84           51.71      201.9   \n",
       "..         ...          ...           ...             ...        ...   \n",
       "558          0       14.590         22.68           96.39      657.1   \n",
       "559          0       11.510         23.93           74.52      403.5   \n",
       "560          0       14.050         27.15           91.38      600.4   \n",
       "561          0       11.200         29.37           70.67      386.0   \n",
       "568          0        7.760         24.54           47.92      181.0   \n",
       "\n",
       "     smoothness_mean  compactness_mean  concavity_mean  concave points_mean  \\\n",
       "19           0.09779           0.08129         0.06664             0.047810   \n",
       "20           0.10750           0.12700         0.04568             0.031100   \n",
       "21           0.10240           0.06492         0.02956             0.020760   \n",
       "37           0.08983           0.03766         0.02562             0.029230   \n",
       "46           0.08600           0.05943         0.01588             0.005917   \n",
       "..               ...               ...             ...                  ...   \n",
       "558          0.08473           0.13300         0.10290             0.037360   \n",
       "559          0.09261           0.10210         0.11120             0.041050   \n",
       "560          0.09929           0.11260         0.04462             0.043040   \n",
       "561          0.07449           0.03558         0.00000             0.000000   \n",
       "568          0.05263           0.04362         0.00000             0.000000   \n",
       "\n",
       "     symmetry_mean  fractal_dimension_mean  radius_se  texture_se  \\\n",
       "19          0.1885                 0.05766     0.2699      0.7886   \n",
       "20          0.1967                 0.06811     0.1852      0.7477   \n",
       "21          0.1815                 0.06905     0.2773      0.9768   \n",
       "37          0.1467                 0.05863     0.1839      2.3420   \n",
       "46          0.1769                 0.06503     0.1563      0.9567   \n",
       "..             ...                     ...        ...         ...   \n",
       "558         0.1454                 0.06147     0.2254      1.1080   \n",
       "559         0.1388                 0.06570     0.2388      2.9040   \n",
       "560         0.1537                 0.06171     0.3645      1.4920   \n",
       "561         0.1060                 0.05502     0.3141      3.8960   \n",
       "568         0.1587                 0.05884     0.3857      1.4280   \n",
       "\n",
       "     perimeter_se  area_se  smoothness_se  compactness_se  concavity_se  \\\n",
       "19          2.058   23.560       0.008462        0.014600       0.02387   \n",
       "20          1.383   14.670       0.004097        0.018980       0.01698   \n",
       "21          1.909   15.700       0.009606        0.014320       0.01985   \n",
       "37          1.170   14.160       0.004352        0.004899       0.01343   \n",
       "46          1.094    8.205       0.008968        0.016460       0.01588   \n",
       "..            ...      ...            ...             ...           ...   \n",
       "558         2.224   19.540       0.004242        0.046390       0.06578   \n",
       "559         1.936   16.970       0.008200        0.029820       0.05738   \n",
       "560         2.888   29.840       0.007256        0.026780       0.02071   \n",
       "561         2.041   22.810       0.007594        0.008878       0.00000   \n",
       "568         2.548   19.150       0.007189        0.004660       0.00000   \n",
       "\n",
       "     concave points_se  symmetry_se  fractal_dimension_se  radius_worst  \\\n",
       "19            0.013150      0.01980              0.002300        15.110   \n",
       "20            0.006490      0.01678              0.002425        14.500   \n",
       "21            0.014210      0.02027              0.002968        10.230   \n",
       "37            0.011640      0.02671              0.001777        13.300   \n",
       "46            0.005917      0.02574              0.002582         8.964   \n",
       "..                 ...          ...                   ...           ...   \n",
       "558           0.016060      0.01638              0.004406        15.480   \n",
       "559           0.012670      0.01488              0.004738        12.480   \n",
       "560           0.016260      0.02080              0.005304        15.300   \n",
       "561           0.000000      0.01989              0.001773        11.920   \n",
       "568           0.000000      0.02676              0.002783         9.456   \n",
       "\n",
       "     texture_worst  perimeter_worst  area_worst  smoothness_worst  \\\n",
       "19           19.26            99.70       711.2           0.14400   \n",
       "20           20.49            96.09       630.5           0.13120   \n",
       "21           15.66            65.13       314.9           0.13240   \n",
       "37           22.81            84.46       545.9           0.09701   \n",
       "46           21.96            57.26       242.2           0.12970   \n",
       "..             ...              ...         ...               ...   \n",
       "558          27.27           105.90       733.5           0.10260   \n",
       "559          37.16            82.28       474.2           0.12980   \n",
       "560          33.17           100.20       706.7           0.12410   \n",
       "561          38.30            75.19       439.6           0.09267   \n",
       "568          30.37            59.16       268.6           0.08996   \n",
       "\n",
       "     compactness_worst  concavity_worst  concave points_worst  symmetry_worst  \\\n",
       "19             0.17730          0.23900               0.12880          0.2977   \n",
       "20             0.27760          0.18900               0.07283          0.3184   \n",
       "21             0.11480          0.08867               0.06227          0.2450   \n",
       "37             0.04619          0.04833               0.05013          0.1987   \n",
       "46             0.13570          0.06880               0.02564          0.3105   \n",
       "..                 ...              ...                   ...             ...   \n",
       "558            0.31710          0.36620               0.11050          0.2258   \n",
       "559            0.25170          0.36300               0.09653          0.2112   \n",
       "560            0.22640          0.13260               0.10480          0.2250   \n",
       "561            0.05494          0.00000               0.00000          0.1566   \n",
       "568            0.06444          0.00000               0.00000          0.2871   \n",
       "\n",
       "     fractal_dimension_worst  \n",
       "19                   0.07259  \n",
       "20                   0.08183  \n",
       "21                   0.07773  \n",
       "37                   0.06169  \n",
       "46                   0.07409  \n",
       "..                       ...  \n",
       "558                  0.08004  \n",
       "559                  0.08732  \n",
       "560                  0.08321  \n",
       "561                  0.05905  \n",
       "568                  0.07039  \n",
       "\n",
       "[357 rows x 31 columns]"
      ]
     },
     "execution_count": 81,
     "metadata": {},
     "output_type": "execute_result"
    }
   ],
   "source": [
    "df[df[\"diagnosis\"]==0]"
   ]
  },
  {
   "cell_type": "code",
   "execution_count": 4,
   "id": "b990c757",
   "metadata": {},
   "outputs": [],
   "source": [
    "## Dropping this column as it has only NaN values\n",
    "df = df.drop(['Unnamed: 32','id'],axis=1)"
   ]
  },
  {
   "cell_type": "code",
   "execution_count": 5,
   "id": "1d0fd5cd",
   "metadata": {},
   "outputs": [
    {
     "data": {
      "text/html": [
       "<div>\n",
       "<style scoped>\n",
       "    .dataframe tbody tr th:only-of-type {\n",
       "        vertical-align: middle;\n",
       "    }\n",
       "\n",
       "    .dataframe tbody tr th {\n",
       "        vertical-align: top;\n",
       "    }\n",
       "\n",
       "    .dataframe thead th {\n",
       "        text-align: right;\n",
       "    }\n",
       "</style>\n",
       "<table border=\"1\" class=\"dataframe\">\n",
       "  <thead>\n",
       "    <tr style=\"text-align: right;\">\n",
       "      <th></th>\n",
       "      <th>diagnosis</th>\n",
       "      <th>radius_mean</th>\n",
       "      <th>texture_mean</th>\n",
       "      <th>perimeter_mean</th>\n",
       "      <th>area_mean</th>\n",
       "      <th>smoothness_mean</th>\n",
       "      <th>compactness_mean</th>\n",
       "      <th>concavity_mean</th>\n",
       "      <th>concave points_mean</th>\n",
       "      <th>symmetry_mean</th>\n",
       "      <th>...</th>\n",
       "      <th>radius_worst</th>\n",
       "      <th>texture_worst</th>\n",
       "      <th>perimeter_worst</th>\n",
       "      <th>area_worst</th>\n",
       "      <th>smoothness_worst</th>\n",
       "      <th>compactness_worst</th>\n",
       "      <th>concavity_worst</th>\n",
       "      <th>concave points_worst</th>\n",
       "      <th>symmetry_worst</th>\n",
       "      <th>fractal_dimension_worst</th>\n",
       "    </tr>\n",
       "  </thead>\n",
       "  <tbody>\n",
       "    <tr>\n",
       "      <th>0</th>\n",
       "      <td>M</td>\n",
       "      <td>17.99</td>\n",
       "      <td>10.38</td>\n",
       "      <td>122.80</td>\n",
       "      <td>1001.0</td>\n",
       "      <td>0.11840</td>\n",
       "      <td>0.27760</td>\n",
       "      <td>0.3001</td>\n",
       "      <td>0.14710</td>\n",
       "      <td>0.2419</td>\n",
       "      <td>...</td>\n",
       "      <td>25.38</td>\n",
       "      <td>17.33</td>\n",
       "      <td>184.60</td>\n",
       "      <td>2019.0</td>\n",
       "      <td>0.1622</td>\n",
       "      <td>0.6656</td>\n",
       "      <td>0.7119</td>\n",
       "      <td>0.2654</td>\n",
       "      <td>0.4601</td>\n",
       "      <td>0.11890</td>\n",
       "    </tr>\n",
       "    <tr>\n",
       "      <th>1</th>\n",
       "      <td>M</td>\n",
       "      <td>20.57</td>\n",
       "      <td>17.77</td>\n",
       "      <td>132.90</td>\n",
       "      <td>1326.0</td>\n",
       "      <td>0.08474</td>\n",
       "      <td>0.07864</td>\n",
       "      <td>0.0869</td>\n",
       "      <td>0.07017</td>\n",
       "      <td>0.1812</td>\n",
       "      <td>...</td>\n",
       "      <td>24.99</td>\n",
       "      <td>23.41</td>\n",
       "      <td>158.80</td>\n",
       "      <td>1956.0</td>\n",
       "      <td>0.1238</td>\n",
       "      <td>0.1866</td>\n",
       "      <td>0.2416</td>\n",
       "      <td>0.1860</td>\n",
       "      <td>0.2750</td>\n",
       "      <td>0.08902</td>\n",
       "    </tr>\n",
       "    <tr>\n",
       "      <th>2</th>\n",
       "      <td>M</td>\n",
       "      <td>19.69</td>\n",
       "      <td>21.25</td>\n",
       "      <td>130.00</td>\n",
       "      <td>1203.0</td>\n",
       "      <td>0.10960</td>\n",
       "      <td>0.15990</td>\n",
       "      <td>0.1974</td>\n",
       "      <td>0.12790</td>\n",
       "      <td>0.2069</td>\n",
       "      <td>...</td>\n",
       "      <td>23.57</td>\n",
       "      <td>25.53</td>\n",
       "      <td>152.50</td>\n",
       "      <td>1709.0</td>\n",
       "      <td>0.1444</td>\n",
       "      <td>0.4245</td>\n",
       "      <td>0.4504</td>\n",
       "      <td>0.2430</td>\n",
       "      <td>0.3613</td>\n",
       "      <td>0.08758</td>\n",
       "    </tr>\n",
       "    <tr>\n",
       "      <th>3</th>\n",
       "      <td>M</td>\n",
       "      <td>11.42</td>\n",
       "      <td>20.38</td>\n",
       "      <td>77.58</td>\n",
       "      <td>386.1</td>\n",
       "      <td>0.14250</td>\n",
       "      <td>0.28390</td>\n",
       "      <td>0.2414</td>\n",
       "      <td>0.10520</td>\n",
       "      <td>0.2597</td>\n",
       "      <td>...</td>\n",
       "      <td>14.91</td>\n",
       "      <td>26.50</td>\n",
       "      <td>98.87</td>\n",
       "      <td>567.7</td>\n",
       "      <td>0.2098</td>\n",
       "      <td>0.8663</td>\n",
       "      <td>0.6869</td>\n",
       "      <td>0.2575</td>\n",
       "      <td>0.6638</td>\n",
       "      <td>0.17300</td>\n",
       "    </tr>\n",
       "    <tr>\n",
       "      <th>4</th>\n",
       "      <td>M</td>\n",
       "      <td>20.29</td>\n",
       "      <td>14.34</td>\n",
       "      <td>135.10</td>\n",
       "      <td>1297.0</td>\n",
       "      <td>0.10030</td>\n",
       "      <td>0.13280</td>\n",
       "      <td>0.1980</td>\n",
       "      <td>0.10430</td>\n",
       "      <td>0.1809</td>\n",
       "      <td>...</td>\n",
       "      <td>22.54</td>\n",
       "      <td>16.67</td>\n",
       "      <td>152.20</td>\n",
       "      <td>1575.0</td>\n",
       "      <td>0.1374</td>\n",
       "      <td>0.2050</td>\n",
       "      <td>0.4000</td>\n",
       "      <td>0.1625</td>\n",
       "      <td>0.2364</td>\n",
       "      <td>0.07678</td>\n",
       "    </tr>\n",
       "  </tbody>\n",
       "</table>\n",
       "<p>5 rows × 31 columns</p>\n",
       "</div>"
      ],
      "text/plain": [
       "  diagnosis  radius_mean  texture_mean  perimeter_mean  area_mean  \\\n",
       "0         M        17.99         10.38          122.80     1001.0   \n",
       "1         M        20.57         17.77          132.90     1326.0   \n",
       "2         M        19.69         21.25          130.00     1203.0   \n",
       "3         M        11.42         20.38           77.58      386.1   \n",
       "4         M        20.29         14.34          135.10     1297.0   \n",
       "\n",
       "   smoothness_mean  compactness_mean  concavity_mean  concave points_mean  \\\n",
       "0          0.11840           0.27760          0.3001              0.14710   \n",
       "1          0.08474           0.07864          0.0869              0.07017   \n",
       "2          0.10960           0.15990          0.1974              0.12790   \n",
       "3          0.14250           0.28390          0.2414              0.10520   \n",
       "4          0.10030           0.13280          0.1980              0.10430   \n",
       "\n",
       "   symmetry_mean  ...  radius_worst  texture_worst  perimeter_worst  \\\n",
       "0         0.2419  ...         25.38          17.33           184.60   \n",
       "1         0.1812  ...         24.99          23.41           158.80   \n",
       "2         0.2069  ...         23.57          25.53           152.50   \n",
       "3         0.2597  ...         14.91          26.50            98.87   \n",
       "4         0.1809  ...         22.54          16.67           152.20   \n",
       "\n",
       "   area_worst  smoothness_worst  compactness_worst  concavity_worst  \\\n",
       "0      2019.0            0.1622             0.6656           0.7119   \n",
       "1      1956.0            0.1238             0.1866           0.2416   \n",
       "2      1709.0            0.1444             0.4245           0.4504   \n",
       "3       567.7            0.2098             0.8663           0.6869   \n",
       "4      1575.0            0.1374             0.2050           0.4000   \n",
       "\n",
       "   concave points_worst  symmetry_worst  fractal_dimension_worst  \n",
       "0                0.2654          0.4601                  0.11890  \n",
       "1                0.1860          0.2750                  0.08902  \n",
       "2                0.2430          0.3613                  0.08758  \n",
       "3                0.2575          0.6638                  0.17300  \n",
       "4                0.1625          0.2364                  0.07678  \n",
       "\n",
       "[5 rows x 31 columns]"
      ]
     },
     "execution_count": 5,
     "metadata": {},
     "output_type": "execute_result"
    }
   ],
   "source": [
    "df.head()"
   ]
  },
  {
   "cell_type": "code",
   "execution_count": 25,
   "id": "56735e9c",
   "metadata": {},
   "outputs": [
    {
     "data": {
      "text/html": [
       "<div>\n",
       "<style scoped>\n",
       "    .dataframe tbody tr th:only-of-type {\n",
       "        vertical-align: middle;\n",
       "    }\n",
       "\n",
       "    .dataframe tbody tr th {\n",
       "        vertical-align: top;\n",
       "    }\n",
       "\n",
       "    .dataframe thead th {\n",
       "        text-align: right;\n",
       "    }\n",
       "</style>\n",
       "<table border=\"1\" class=\"dataframe\">\n",
       "  <thead>\n",
       "    <tr style=\"text-align: right;\">\n",
       "      <th></th>\n",
       "      <th>diagnosis</th>\n",
       "      <th>radius_mean</th>\n",
       "      <th>texture_mean</th>\n",
       "      <th>perimeter_mean</th>\n",
       "      <th>area_mean</th>\n",
       "      <th>smoothness_mean</th>\n",
       "      <th>compactness_mean</th>\n",
       "      <th>concavity_mean</th>\n",
       "      <th>concave points_mean</th>\n",
       "      <th>symmetry_mean</th>\n",
       "      <th>...</th>\n",
       "      <th>radius_worst</th>\n",
       "      <th>texture_worst</th>\n",
       "      <th>perimeter_worst</th>\n",
       "      <th>area_worst</th>\n",
       "      <th>smoothness_worst</th>\n",
       "      <th>compactness_worst</th>\n",
       "      <th>concavity_worst</th>\n",
       "      <th>concave points_worst</th>\n",
       "      <th>symmetry_worst</th>\n",
       "      <th>fractal_dimension_worst</th>\n",
       "    </tr>\n",
       "  </thead>\n",
       "  <tbody>\n",
       "    <tr>\n",
       "      <th>count</th>\n",
       "      <td>569.000000</td>\n",
       "      <td>569.000000</td>\n",
       "      <td>569.000000</td>\n",
       "      <td>569.000000</td>\n",
       "      <td>569.000000</td>\n",
       "      <td>569.000000</td>\n",
       "      <td>569.000000</td>\n",
       "      <td>569.000000</td>\n",
       "      <td>569.000000</td>\n",
       "      <td>569.000000</td>\n",
       "      <td>...</td>\n",
       "      <td>569.000000</td>\n",
       "      <td>569.000000</td>\n",
       "      <td>569.000000</td>\n",
       "      <td>569.000000</td>\n",
       "      <td>569.000000</td>\n",
       "      <td>569.000000</td>\n",
       "      <td>569.000000</td>\n",
       "      <td>569.000000</td>\n",
       "      <td>569.000000</td>\n",
       "      <td>569.000000</td>\n",
       "    </tr>\n",
       "    <tr>\n",
       "      <th>mean</th>\n",
       "      <td>0.372583</td>\n",
       "      <td>14.127292</td>\n",
       "      <td>19.289649</td>\n",
       "      <td>91.969033</td>\n",
       "      <td>654.889104</td>\n",
       "      <td>0.096360</td>\n",
       "      <td>0.104341</td>\n",
       "      <td>0.088799</td>\n",
       "      <td>0.048919</td>\n",
       "      <td>0.181162</td>\n",
       "      <td>...</td>\n",
       "      <td>16.269190</td>\n",
       "      <td>25.677223</td>\n",
       "      <td>107.261213</td>\n",
       "      <td>880.583128</td>\n",
       "      <td>0.132369</td>\n",
       "      <td>0.254265</td>\n",
       "      <td>0.272188</td>\n",
       "      <td>0.114606</td>\n",
       "      <td>0.290076</td>\n",
       "      <td>0.083946</td>\n",
       "    </tr>\n",
       "    <tr>\n",
       "      <th>std</th>\n",
       "      <td>0.483918</td>\n",
       "      <td>3.524049</td>\n",
       "      <td>4.301036</td>\n",
       "      <td>24.298981</td>\n",
       "      <td>351.914129</td>\n",
       "      <td>0.014064</td>\n",
       "      <td>0.052813</td>\n",
       "      <td>0.079720</td>\n",
       "      <td>0.038803</td>\n",
       "      <td>0.027414</td>\n",
       "      <td>...</td>\n",
       "      <td>4.833242</td>\n",
       "      <td>6.146258</td>\n",
       "      <td>33.602542</td>\n",
       "      <td>569.356993</td>\n",
       "      <td>0.022832</td>\n",
       "      <td>0.157336</td>\n",
       "      <td>0.208624</td>\n",
       "      <td>0.065732</td>\n",
       "      <td>0.061867</td>\n",
       "      <td>0.018061</td>\n",
       "    </tr>\n",
       "    <tr>\n",
       "      <th>min</th>\n",
       "      <td>0.000000</td>\n",
       "      <td>6.981000</td>\n",
       "      <td>9.710000</td>\n",
       "      <td>43.790000</td>\n",
       "      <td>143.500000</td>\n",
       "      <td>0.052630</td>\n",
       "      <td>0.019380</td>\n",
       "      <td>0.000000</td>\n",
       "      <td>0.000000</td>\n",
       "      <td>0.106000</td>\n",
       "      <td>...</td>\n",
       "      <td>7.930000</td>\n",
       "      <td>12.020000</td>\n",
       "      <td>50.410000</td>\n",
       "      <td>185.200000</td>\n",
       "      <td>0.071170</td>\n",
       "      <td>0.027290</td>\n",
       "      <td>0.000000</td>\n",
       "      <td>0.000000</td>\n",
       "      <td>0.156500</td>\n",
       "      <td>0.055040</td>\n",
       "    </tr>\n",
       "    <tr>\n",
       "      <th>25%</th>\n",
       "      <td>0.000000</td>\n",
       "      <td>11.700000</td>\n",
       "      <td>16.170000</td>\n",
       "      <td>75.170000</td>\n",
       "      <td>420.300000</td>\n",
       "      <td>0.086370</td>\n",
       "      <td>0.064920</td>\n",
       "      <td>0.029560</td>\n",
       "      <td>0.020310</td>\n",
       "      <td>0.161900</td>\n",
       "      <td>...</td>\n",
       "      <td>13.010000</td>\n",
       "      <td>21.080000</td>\n",
       "      <td>84.110000</td>\n",
       "      <td>515.300000</td>\n",
       "      <td>0.116600</td>\n",
       "      <td>0.147200</td>\n",
       "      <td>0.114500</td>\n",
       "      <td>0.064930</td>\n",
       "      <td>0.250400</td>\n",
       "      <td>0.071460</td>\n",
       "    </tr>\n",
       "    <tr>\n",
       "      <th>50%</th>\n",
       "      <td>0.000000</td>\n",
       "      <td>13.370000</td>\n",
       "      <td>18.840000</td>\n",
       "      <td>86.240000</td>\n",
       "      <td>551.100000</td>\n",
       "      <td>0.095870</td>\n",
       "      <td>0.092630</td>\n",
       "      <td>0.061540</td>\n",
       "      <td>0.033500</td>\n",
       "      <td>0.179200</td>\n",
       "      <td>...</td>\n",
       "      <td>14.970000</td>\n",
       "      <td>25.410000</td>\n",
       "      <td>97.660000</td>\n",
       "      <td>686.500000</td>\n",
       "      <td>0.131300</td>\n",
       "      <td>0.211900</td>\n",
       "      <td>0.226700</td>\n",
       "      <td>0.099930</td>\n",
       "      <td>0.282200</td>\n",
       "      <td>0.080040</td>\n",
       "    </tr>\n",
       "    <tr>\n",
       "      <th>75%</th>\n",
       "      <td>1.000000</td>\n",
       "      <td>15.780000</td>\n",
       "      <td>21.800000</td>\n",
       "      <td>104.100000</td>\n",
       "      <td>782.700000</td>\n",
       "      <td>0.105300</td>\n",
       "      <td>0.130400</td>\n",
       "      <td>0.130700</td>\n",
       "      <td>0.074000</td>\n",
       "      <td>0.195700</td>\n",
       "      <td>...</td>\n",
       "      <td>18.790000</td>\n",
       "      <td>29.720000</td>\n",
       "      <td>125.400000</td>\n",
       "      <td>1084.000000</td>\n",
       "      <td>0.146000</td>\n",
       "      <td>0.339100</td>\n",
       "      <td>0.382900</td>\n",
       "      <td>0.161400</td>\n",
       "      <td>0.317900</td>\n",
       "      <td>0.092080</td>\n",
       "    </tr>\n",
       "    <tr>\n",
       "      <th>max</th>\n",
       "      <td>1.000000</td>\n",
       "      <td>28.110000</td>\n",
       "      <td>39.280000</td>\n",
       "      <td>188.500000</td>\n",
       "      <td>2501.000000</td>\n",
       "      <td>0.163400</td>\n",
       "      <td>0.345400</td>\n",
       "      <td>0.426800</td>\n",
       "      <td>0.201200</td>\n",
       "      <td>0.304000</td>\n",
       "      <td>...</td>\n",
       "      <td>36.040000</td>\n",
       "      <td>49.540000</td>\n",
       "      <td>251.200000</td>\n",
       "      <td>4254.000000</td>\n",
       "      <td>0.222600</td>\n",
       "      <td>1.058000</td>\n",
       "      <td>1.252000</td>\n",
       "      <td>0.291000</td>\n",
       "      <td>0.663800</td>\n",
       "      <td>0.207500</td>\n",
       "    </tr>\n",
       "  </tbody>\n",
       "</table>\n",
       "<p>8 rows × 31 columns</p>\n",
       "</div>"
      ],
      "text/plain": [
       "        diagnosis  radius_mean  texture_mean  perimeter_mean    area_mean  \\\n",
       "count  569.000000   569.000000    569.000000      569.000000   569.000000   \n",
       "mean     0.372583    14.127292     19.289649       91.969033   654.889104   \n",
       "std      0.483918     3.524049      4.301036       24.298981   351.914129   \n",
       "min      0.000000     6.981000      9.710000       43.790000   143.500000   \n",
       "25%      0.000000    11.700000     16.170000       75.170000   420.300000   \n",
       "50%      0.000000    13.370000     18.840000       86.240000   551.100000   \n",
       "75%      1.000000    15.780000     21.800000      104.100000   782.700000   \n",
       "max      1.000000    28.110000     39.280000      188.500000  2501.000000   \n",
       "\n",
       "       smoothness_mean  compactness_mean  concavity_mean  concave points_mean  \\\n",
       "count       569.000000        569.000000      569.000000           569.000000   \n",
       "mean          0.096360          0.104341        0.088799             0.048919   \n",
       "std           0.014064          0.052813        0.079720             0.038803   \n",
       "min           0.052630          0.019380        0.000000             0.000000   \n",
       "25%           0.086370          0.064920        0.029560             0.020310   \n",
       "50%           0.095870          0.092630        0.061540             0.033500   \n",
       "75%           0.105300          0.130400        0.130700             0.074000   \n",
       "max           0.163400          0.345400        0.426800             0.201200   \n",
       "\n",
       "       symmetry_mean  ...  radius_worst  texture_worst  perimeter_worst  \\\n",
       "count     569.000000  ...    569.000000     569.000000       569.000000   \n",
       "mean        0.181162  ...     16.269190      25.677223       107.261213   \n",
       "std         0.027414  ...      4.833242       6.146258        33.602542   \n",
       "min         0.106000  ...      7.930000      12.020000        50.410000   \n",
       "25%         0.161900  ...     13.010000      21.080000        84.110000   \n",
       "50%         0.179200  ...     14.970000      25.410000        97.660000   \n",
       "75%         0.195700  ...     18.790000      29.720000       125.400000   \n",
       "max         0.304000  ...     36.040000      49.540000       251.200000   \n",
       "\n",
       "        area_worst  smoothness_worst  compactness_worst  concavity_worst  \\\n",
       "count   569.000000        569.000000         569.000000       569.000000   \n",
       "mean    880.583128          0.132369           0.254265         0.272188   \n",
       "std     569.356993          0.022832           0.157336         0.208624   \n",
       "min     185.200000          0.071170           0.027290         0.000000   \n",
       "25%     515.300000          0.116600           0.147200         0.114500   \n",
       "50%     686.500000          0.131300           0.211900         0.226700   \n",
       "75%    1084.000000          0.146000           0.339100         0.382900   \n",
       "max    4254.000000          0.222600           1.058000         1.252000   \n",
       "\n",
       "       concave points_worst  symmetry_worst  fractal_dimension_worst  \n",
       "count            569.000000      569.000000               569.000000  \n",
       "mean               0.114606        0.290076                 0.083946  \n",
       "std                0.065732        0.061867                 0.018061  \n",
       "min                0.000000        0.156500                 0.055040  \n",
       "25%                0.064930        0.250400                 0.071460  \n",
       "50%                0.099930        0.282200                 0.080040  \n",
       "75%                0.161400        0.317900                 0.092080  \n",
       "max                0.291000        0.663800                 0.207500  \n",
       "\n",
       "[8 rows x 31 columns]"
      ]
     },
     "execution_count": 25,
     "metadata": {},
     "output_type": "execute_result"
    }
   ],
   "source": [
    "df.describe()"
   ]
  },
  {
   "cell_type": "markdown",
   "id": "3c2e6b6e",
   "metadata": {},
   "source": [
    "## Reassigning the Target variable "
   ]
  },
  {
   "cell_type": "code",
   "execution_count": 6,
   "id": "42f6d787",
   "metadata": {},
   "outputs": [],
   "source": [
    "target = {'M':1,'B':0}"
   ]
  },
  {
   "cell_type": "code",
   "execution_count": 7,
   "id": "27ddb2fd",
   "metadata": {},
   "outputs": [],
   "source": [
    "df['diagnosis'].replace(to_replace=target,inplace=True)"
   ]
  },
  {
   "cell_type": "markdown",
   "id": "6c16ce0c",
   "metadata": {},
   "source": [
    "## Model Building 1"
   ]
  },
  {
   "cell_type": "code",
   "execution_count": 8,
   "id": "5d8c38d1",
   "metadata": {},
   "outputs": [],
   "source": [
    "X = df.drop('diagnosis', axis = 1)\n",
    "y = df['diagnosis']"
   ]
  },
  {
   "cell_type": "code",
   "execution_count": 9,
   "id": "2d52e4db",
   "metadata": {},
   "outputs": [],
   "source": [
    "X_train, X_test, y_train, y_test = train_test_split(X, y, test_size = 0.30, random_state = 0)"
   ]
  },
  {
   "cell_type": "code",
   "execution_count": null,
   "id": "207c366f",
   "metadata": {},
   "outputs": [],
   "source": [
    "## scaling the data since they are not in the same scale\n",
    "from sklearn.preprocessing import StandardScaler\n",
    "\n",
    "scaler = StandardScaler()\n",
    "\n",
    "X_train = scaler.fit_transform(X_train)\n",
    "X_test = scaler.transform(X_test)"
   ]
  },
  {
   "cell_type": "code",
   "execution_count": 10,
   "id": "9c3ef4c0",
   "metadata": {},
   "outputs": [],
   "source": [
    "from sklearn.linear_model import LogisticRegression\n",
    "from sklearn.neighbors import KNeighborsClassifier\n",
    "from sklearn.svm import SVC\n",
    "from sklearn.ensemble import RandomForestClassifier\n",
    "from sklearn.linear_model import SGDClassifier\n",
    "from sklearn.ensemble import GradientBoostingClassifier\n",
    "from xgboost import XGBClassifier\n",
    "from sklearn.tree import DecisionTreeClassifier\n",
    "from sklearn.ensemble import VotingClassifier\n",
    "from sklearn.ensemble import AdaBoostClassifier\n",
    "import lightgbm as lgb"
   ]
  },
  {
   "cell_type": "code",
   "execution_count": 11,
   "id": "6434e28d",
   "metadata": {},
   "outputs": [],
   "source": [
    "# Evaluation criteria\n",
    "\n",
    "def evaluation_criteria(y_pred,y_test):\n",
    "    print()\n",
    "    print(\"Evaluation Metrics\")\n",
    "    print(\"Mean Absolute Error:{}\".format(round(mean_absolute_error(y_pred,y_test),ndigits=3)))\n",
    "    print(\"Root Mean Absolute Error:{}\".format(round(math.sqrt(mean_squared_error(y_pred,y_test)),ndigits=3)))\n",
    "    print(\"R2 Squared: {}\".format(round(r2_score(y_pred,y_test),ndigits=3)))\n",
    "    print(\"Cohen Kappa Score: {}\".format(round(cohen_kappa_score(y_test,y_pred),ndigits=3)))\n",
    "    # print(\"Mean Absolute Percentage Error: {}\".format(mean_absolute_percentage_error(y_test,y_pred)))\n",
    "    "
   ]
  },
  {
   "cell_type": "code",
   "execution_count": 12,
   "id": "b547cbb9",
   "metadata": {},
   "outputs": [],
   "source": [
    "# Confusion matrix \n",
    "def plot_confusion_matrix(cm, classes,\n",
    "                          normalize = False,\n",
    "                          title = 'Confusion matrix\"',\n",
    "                          cmap = plt.cm.Blues) :\n",
    "    plt.imshow(cm, interpolation = 'nearest', cmap = cmap)\n",
    "    plt.title(title)\n",
    "    plt.colorbar()\n",
    "    tick_marks = np.arange(len(classes))\n",
    "    plt.xticks(tick_marks, classes, rotation = 0)\n",
    "    plt.yticks(tick_marks, classes)\n",
    "\n",
    "    thresh = cm.max() / 2.\n",
    "    for i, j in itertools.product(range(cm.shape[0]), range(cm.shape[1])) :\n",
    "        plt.text(j, i, cm[i, j],\n",
    "                 horizontalalignment = 'center',\n",
    "                 color = 'white' if cm[i, j] > thresh else 'black')\n",
    "\n",
    "    plt.tight_layout()\n",
    "    plt.ylabel('True label')\n",
    "    plt.xlabel('Predicted label')\n",
    "    \n",
    "# Show metrics \n",
    "def show_metrics(cm):\n",
    "    tp = cm[1,1]\n",
    "    fn = cm[1,0]\n",
    "    fp = cm[0,1]\n",
    "    tn = cm[0,0]\n",
    "    print('Accuracy  =     {:.3f}'.format((tp+tn)/(tp+tn+fp+fn)))\n",
    "    print('Precision =     {:.3f}'.format(tp/(tp+fp)))\n",
    "    print('Recall    =     {:.3f}'.format(tp/(tp+fn)))\n",
    "    print('F1_score  =     {:.3f}'.format(2*(((tp/(tp+fp))*(tp/(tp+fn)))/\n",
    "                                                 ((tp/(tp+fp))+(tp/(tp+fn))))))"
   ]
  },
  {
   "cell_type": "code",
   "execution_count": 13,
   "id": "491843c4",
   "metadata": {},
   "outputs": [],
   "source": [
    "# ROC curve\n",
    "def plot_roc(fpr,tpr,roc_auc):\n",
    "    plt.plot(fpr, tpr, label = 'ROC curve', linewidth = 2)\n",
    "    plt.plot([0,1],[0,1], 'k--', linewidth = 2)\n",
    "    plt.plot(fpr, tpr, 'b', label = 'AUC = %0.2f' % roc_auc)\n",
    "    plt.legend(loc = 'lower right')\n",
    "   # plt.xlim([0.0,0.001])\n",
    "   # plt.ylim([0.0,1.05])\n",
    "    plt.xlabel('False Positive Rate')\n",
    "    plt.ylabel('True Positive Rate')\n",
    "    plt.title('ROC Curve')\n",
    "    plt.show();"
   ]
  },
  {
   "cell_type": "code",
   "execution_count": 14,
   "id": "b8350e65",
   "metadata": {},
   "outputs": [],
   "source": [
    " def model_build(model,y_test=y_test):\n",
    "    \"\"\"model -> The model object \"\"\"  \n",
    "    start = time.time()\n",
    "    model.fit(X_train, y_train)\n",
    "    end = time.time()\n",
    "    print(round(end - start,ndigits=3), \"seconds\")\n",
    "    y_pred = model.predict(X_test)\n",
    "    y_score = model.predict_proba(X_test)\n",
    "\n",
    "    # Confusion maxtrix & metrics\n",
    "    cm = confusion_matrix(y_test, y_pred)\n",
    "    class_names = [0,1]\n",
    "    plt.figure()\n",
    "    plot_confusion_matrix(cm, \n",
    "                          classes=class_names, \n",
    "                          title='Confusion matrix')\n",
    "    plt.savefig('6')\n",
    "    plt.show()\n",
    "\n",
    "    show_metrics(cm)\n",
    "    \n",
    "    evaluation_criteria(y_pred,y_test)\n",
    "\n",
    "    # ROC curve\n",
    "    fpr, tpr, t = roc_curve(y_test, y_score[:,1])\n",
    "    roc_auc = auc(fpr,tpr)\n",
    "    plot_roc(fpr,tpr,roc_auc)\n",
    "    \n",
    "    print(classification_report(y_test,y_pred))"
   ]
  },
  {
   "cell_type": "code",
   "execution_count": 15,
   "id": "9fb67c56",
   "metadata": {},
   "outputs": [],
   "source": [
    "log = LogisticRegression()\n",
    "knn = KNeighborsClassifier()\n",
    "svc = SVC(probability=True)\n",
    "rf = RandomForestClassifier()\n",
    "SGD = SGDClassifier()\n",
    "gb = GradientBoostingClassifier()\n",
    "xgb = XGBClassifier()\n",
    "dt = DecisionTreeClassifier()\n",
    "ada = AdaBoostClassifier()\n",
    "lgbm = lgb.LGBMClassifier()"
   ]
  },
  {
   "cell_type": "code",
   "execution_count": 16,
   "id": "f1474a6c",
   "metadata": {},
   "outputs": [
    {
     "name": "stdout",
     "output_type": "stream",
     "text": [
      "0.055 seconds\n"
     ]
    },
    {
     "data": {
      "image/png": "[encoded data removed]",
      "text/plain": [
       "<Figure size 432x288 with 2 Axes>"
      ]
     },
     "metadata": {
      "needs_background": "light"
     },
     "output_type": "display_data"
    },
    {
     "name": "stdout",
     "output_type": "stream",
     "text": [
      "Accuracy  =     0.959\n",
      "Precision =     0.924\n",
      "Recall    =     0.968\n",
      "F1_score  =     0.946\n",
      "\n",
      "Evaluation Metrics\n",
      "Mean Absolute Error:0.041\n",
      "Root Mean Absolute Error:0.202\n",
      "R2 Squared: 0.827\n",
      "Cohen Kappa Score: 0.913\n"
     ]
    },
    {
     "data": {
      "image/png": "[encoded data removed]",
      "text/plain": [
       "<Figure size 432x288 with 1 Axes>"
      ]
     },
     "metadata": {
      "needs_background": "light"
     },
     "output_type": "display_data"
    },
    {
     "name": "stdout",
     "output_type": "stream",
     "text": [
      "              precision    recall  f1-score   support\n",
      "\n",
      "           0       0.98      0.95      0.97       108\n",
      "           1       0.92      0.97      0.95        63\n",
      "\n",
      "    accuracy                           0.96       171\n",
      "   macro avg       0.95      0.96      0.96       171\n",
      "weighted avg       0.96      0.96      0.96       171\n",
      "\n"
     ]
    }
   ],
   "source": [
    "model_build(log)"
   ]
  },
  {
   "cell_type": "code",
   "execution_count": 17,
   "id": "3af47d3d",
   "metadata": {},
   "outputs": [
    {
     "name": "stdout",
     "output_type": "stream",
     "text": [
      "0.002 seconds\n"
     ]
    },
    {
     "data": {
      "image/png": "[encoded data removed]",
      "text/plain": [
       "<Figure size 432x288 with 2 Axes>"
      ]
     },
     "metadata": {
      "needs_background": "light"
     },
     "output_type": "display_data"
    },
    {
     "name": "stdout",
     "output_type": "stream",
     "text": [
      "Accuracy  =     0.947\n",
      "Precision =     0.922\n",
      "Recall    =     0.937\n",
      "F1_score  =     0.929\n",
      "\n",
      "Evaluation Metrics\n",
      "Mean Absolute Error:0.053\n",
      "Root Mean Absolute Error:0.229\n",
      "R2 Squared: 0.775\n",
      "Cohen Kappa Score: 0.887\n"
     ]
    },
    {
     "data": {
      "image/png": "[encoded data removed]",
      "text/plain": [
       "<Figure size 432x288 with 1 Axes>"
      ]
     },
     "metadata": {
      "needs_background": "light"
     },
     "output_type": "display_data"
    },
    {
     "name": "stdout",
     "output_type": "stream",
     "text": [
      "              precision    recall  f1-score   support\n",
      "\n",
      "           0       0.96      0.95      0.96       108\n",
      "           1       0.92      0.94      0.93        63\n",
      "\n",
      "    accuracy                           0.95       171\n",
      "   macro avg       0.94      0.95      0.94       171\n",
      "weighted avg       0.95      0.95      0.95       171\n",
      "\n"
     ]
    }
   ],
   "source": [
    "model_build(knn)"
   ]
  },
  {
   "cell_type": "code",
   "execution_count": 18,
   "id": "f74697a1",
   "metadata": {},
   "outputs": [
    {
     "name": "stdout",
     "output_type": "stream",
     "text": [
      "0.017 seconds\n"
     ]
    },
    {
     "data": {
      "image/png": "[encoded data removed]",
      "text/plain": [
       "<Figure size 432x288 with 2 Axes>"
      ]
     },
     "metadata": {
      "needs_background": "light"
     },
     "output_type": "display_data"
    },
    {
     "name": "stdout",
     "output_type": "stream",
     "text": [
      "Accuracy  =     0.924\n",
      "Precision =     0.981\n",
      "Recall    =     0.810\n",
      "F1_score  =     0.887\n",
      "\n",
      "Evaluation Metrics\n",
      "Mean Absolute Error:0.076\n",
      "Root Mean Absolute Error:0.276\n",
      "R2 Squared: 0.641\n",
      "Cohen Kappa Score: 0.83\n"
     ]
    },
    {
     "data": {
      "image/png": "[encoded data removed]",
      "text/plain": [
       "<Figure size 432x288 with 1 Axes>"
      ]
     },
     "metadata": {
      "needs_background": "light"
     },
     "output_type": "display_data"
    },
    {
     "name": "stdout",
     "output_type": "stream",
     "text": [
      "              precision    recall  f1-score   support\n",
      "\n",
      "           0       0.90      0.99      0.94       108\n",
      "           1       0.98      0.81      0.89        63\n",
      "\n",
      "    accuracy                           0.92       171\n",
      "   macro avg       0.94      0.90      0.91       171\n",
      "weighted avg       0.93      0.92      0.92       171\n",
      "\n"
     ]
    }
   ],
   "source": [
    "model_build(svc)"
   ]
  },
  {
   "cell_type": "code",
   "execution_count": 19,
   "id": "a563c194",
   "metadata": {},
   "outputs": [
    {
     "name": "stdout",
     "output_type": "stream",
     "text": [
      "0.137 seconds\n"
     ]
    },
    {
     "data": {
      "image/png": "[encoded data removed]",
      "text/plain": [
       "<Figure size 432x288 with 2 Axes>"
      ]
     },
     "metadata": {
      "needs_background": "light"
     },
     "output_type": "display_data"
    },
    {
     "name": "stdout",
     "output_type": "stream",
     "text": [
      "Accuracy  =     0.971\n",
      "Precision =     0.968\n",
      "Recall    =     0.952\n",
      "F1_score  =     0.960\n",
      "\n",
      "Evaluation Metrics\n",
      "Mean Absolute Error:0.029\n",
      "Root Mean Absolute Error:0.171\n",
      "R2 Squared: 0.873\n",
      "Cohen Kappa Score: 0.937\n"
     ]
    },
    {
     "data": {
      "image/png": "[encoded data removed]",
      "text/plain": [
       "<Figure size 432x288 with 1 Axes>"
      ]
     },
     "metadata": {
      "needs_background": "light"
     },
     "output_type": "display_data"
    },
    {
     "name": "stdout",
     "output_type": "stream",
     "text": [
      "              precision    recall  f1-score   support\n",
      "\n",
      "           0       0.97      0.98      0.98       108\n",
      "           1       0.97      0.95      0.96        63\n",
      "\n",
      "    accuracy                           0.97       171\n",
      "   macro avg       0.97      0.97      0.97       171\n",
      "weighted avg       0.97      0.97      0.97       171\n",
      "\n"
     ]
    }
   ],
   "source": [
    "model_build(rf)"
   ]
  },
  {
   "cell_type": "code",
   "execution_count": 20,
   "id": "ffb5a0e4",
   "metadata": {
    "scrolled": false
   },
   "outputs": [
    {
     "name": "stdout",
     "output_type": "stream",
     "text": [
      "0.246 seconds\n"
     ]
    },
    {
     "data": {
      "image/png": "[encoded data removed]",
      "text/plain": [
       "<Figure size 432x288 with 2 Axes>"
      ]
     },
     "metadata": {
      "needs_background": "light"
     },
     "output_type": "display_data"
    },
    {
     "name": "stdout",
     "output_type": "stream",
     "text": [
      "Accuracy  =     0.959\n",
      "Precision =     0.938\n",
      "Recall    =     0.952\n",
      "F1_score  =     0.945\n",
      "\n",
      "Evaluation Metrics\n",
      "Mean Absolute Error:0.041\n",
      "Root Mean Absolute Error:0.202\n",
      "R2 Squared: 0.825\n",
      "Cohen Kappa Score: 0.912\n"
     ]
    },
    {
     "data": {
      "image/png": "[encoded data removed]",
      "text/plain": [
       "<Figure size 432x288 with 1 Axes>"
      ]
     },
     "metadata": {
      "needs_background": "light"
     },
     "output_type": "display_data"
    },
    {
     "name": "stdout",
     "output_type": "stream",
     "text": [
      "              precision    recall  f1-score   support\n",
      "\n",
      "           0       0.97      0.96      0.97       108\n",
      "           1       0.94      0.95      0.94        63\n",
      "\n",
      "    accuracy                           0.96       171\n",
      "   macro avg       0.95      0.96      0.96       171\n",
      "weighted avg       0.96      0.96      0.96       171\n",
      "\n"
     ]
    }
   ],
   "source": [
    "model_build(gb)"
   ]
  },
  {
   "cell_type": "code",
   "execution_count": 21,
   "id": "728c6a60",
   "metadata": {},
   "outputs": [
    {
     "name": "stdout",
     "output_type": "stream",
     "text": [
      "[21:41:00] WARNING: C:/Users/Administrator/workspace/xgboost-win64_release_1.4.0/src/learner.cc:1095: Starting in XGBoost 1.3.0, the default evaluation metric used with the objective 'binary:logistic' was changed from 'error' to 'logloss'. Explicitly set eval_metric if you'd like to restore the old behavior.\n",
      "1.036 seconds\n"
     ]
    },
    {
     "data": {
      "image/png": "[encoded data removed]",
      "text/plain": [
       "<Figure size 432x288 with 2 Axes>"
      ]
     },
     "metadata": {
      "needs_background": "light"
     },
     "output_type": "display_data"
    },
    {
     "name": "stdout",
     "output_type": "stream",
     "text": [
      "Accuracy  =     0.965\n",
      "Precision =     0.952\n",
      "Recall    =     0.952\n",
      "F1_score  =     0.952\n",
      "\n",
      "Evaluation Metrics\n",
      "Mean Absolute Error:0.035\n",
      "Root Mean Absolute Error:0.187\n",
      "R2 Squared: 0.849\n",
      "Cohen Kappa Score: 0.925\n"
     ]
    },
    {
     "data": {
      "image/png": "[encoded data removed]",
      "text/plain": [
       "<Figure size 432x288 with 1 Axes>"
      ]
     },
     "metadata": {
      "needs_background": "light"
     },
     "output_type": "display_data"
    },
    {
     "name": "stdout",
     "output_type": "stream",
     "text": [
      "              precision    recall  f1-score   support\n",
      "\n",
      "           0       0.97      0.97      0.97       108\n",
      "           1       0.95      0.95      0.95        63\n",
      "\n",
      "    accuracy                           0.96       171\n",
      "   macro avg       0.96      0.96      0.96       171\n",
      "weighted avg       0.96      0.96      0.96       171\n",
      "\n"
     ]
    }
   ],
   "source": [
    "model_build(xgb)"
   ]
  },
  {
   "cell_type": "code",
   "execution_count": 22,
   "id": "9141eff9",
   "metadata": {},
   "outputs": [
    {
     "name": "stdout",
     "output_type": "stream",
     "text": [
      "0.007 seconds\n"
     ]
    },
    {
     "data": {
      "image/png": "[encoded data removed]",
      "text/plain": [
       "<Figure size 432x288 with 2 Axes>"
      ]
     },
     "metadata": {
      "needs_background": "light"
     },
     "output_type": "display_data"
    },
    {
     "name": "stdout",
     "output_type": "stream",
     "text": [
      "Accuracy  =     0.930\n",
      "Precision =     0.870\n",
      "Recall    =     0.952\n",
      "F1_score  =     0.909\n",
      "\n",
      "Evaluation Metrics\n",
      "Mean Absolute Error:0.07\n",
      "Root Mean Absolute Error:0.265\n",
      "R2 Squared: 0.708\n",
      "Cohen Kappa Score: 0.852\n"
     ]
    },
    {
     "data": {
      "image/png": "[encoded data removed]",
      "text/plain": [
       "<Figure size 432x288 with 1 Axes>"
      ]
     },
     "metadata": {
      "needs_background": "light"
     },
     "output_type": "display_data"
    },
    {
     "name": "stdout",
     "output_type": "stream",
     "text": [
      "              precision    recall  f1-score   support\n",
      "\n",
      "           0       0.97      0.92      0.94       108\n",
      "           1       0.87      0.95      0.91        63\n",
      "\n",
      "    accuracy                           0.93       171\n",
      "   macro avg       0.92      0.93      0.93       171\n",
      "weighted avg       0.93      0.93      0.93       171\n",
      "\n"
     ]
    }
   ],
   "source": [
    "model_build(dt)"
   ]
  },
  {
   "cell_type": "code",
   "execution_count": 23,
   "id": "2bf9a6b1",
   "metadata": {},
   "outputs": [
    {
     "name": "stdout",
     "output_type": "stream",
     "text": [
      "0.1 seconds\n"
     ]
    },
    {
     "data": {
      "image/png": "[encoded data removed]",
      "text/plain": [
       "<Figure size 432x288 with 2 Axes>"
      ]
     },
     "metadata": {
      "needs_background": "light"
     },
     "output_type": "display_data"
    },
    {
     "name": "stdout",
     "output_type": "stream",
     "text": [
      "Accuracy  =     0.965\n",
      "Precision =     0.938\n",
      "Recall    =     0.968\n",
      "F1_score  =     0.953\n",
      "\n",
      "Evaluation Metrics\n",
      "Mean Absolute Error:0.035\n",
      "Root Mean Absolute Error:0.187\n",
      "R2 Squared: 0.851\n",
      "Cohen Kappa Score: 0.925\n"
     ]
    },
    {
     "data": {
      "image/png": "[encoded data removed]",
      "text/plain": [
       "<Figure size 432x288 with 1 Axes>"
      ]
     },
     "metadata": {
      "needs_background": "light"
     },
     "output_type": "display_data"
    },
    {
     "name": "stdout",
     "output_type": "stream",
     "text": [
      "              precision    recall  f1-score   support\n",
      "\n",
      "           0       0.98      0.96      0.97       108\n",
      "           1       0.94      0.97      0.95        63\n",
      "\n",
      "    accuracy                           0.96       171\n",
      "   macro avg       0.96      0.97      0.96       171\n",
      "weighted avg       0.97      0.96      0.97       171\n",
      "\n"
     ]
    }
   ],
   "source": [
    "model_build(ada)"
   ]
  },
  {
   "cell_type": "code",
   "execution_count": 24,
   "id": "93134e4f",
   "metadata": {},
   "outputs": [
    {
     "name": "stdout",
     "output_type": "stream",
     "text": [
      "0.147 seconds\n"
     ]
    },
    {
     "data": {
      "image/png": "[encoded data removed]",
      "text/plain": [
       "<Figure size 432x288 with 2 Axes>"
      ]
     },
     "metadata": {
      "needs_background": "light"
     },
     "output_type": "display_data"
    },
    {
     "name": "stdout",
     "output_type": "stream",
     "text": [
      "Accuracy  =     0.982\n",
      "Precision =     1.000\n",
      "Recall    =     0.952\n",
      "F1_score  =     0.976\n",
      "\n",
      "Evaluation Metrics\n",
      "Mean Absolute Error:0.018\n",
      "Root Mean Absolute Error:0.132\n",
      "R2 Squared: 0.923\n",
      "Cohen Kappa Score: 0.962\n"
     ]
    },
    {
     "data": {
      "image/png": "[encoded data removed]",
      "text/plain": [
       "<Figure size 432x288 with 1 Axes>"
      ]
     },
     "metadata": {
      "needs_background": "light"
     },
     "output_type": "display_data"
    },
    {
     "name": "stdout",
     "output_type": "stream",
     "text": [
      "              precision    recall  f1-score   support\n",
      "\n",
      "           0       0.97      1.00      0.99       108\n",
      "           1       1.00      0.95      0.98        63\n",
      "\n",
      "    accuracy                           0.98       171\n",
      "   macro avg       0.99      0.98      0.98       171\n",
      "weighted avg       0.98      0.98      0.98       171\n",
      "\n"
     ]
    }
   ],
   "source": [
    "model_build(lgbm)"
   ]
  },
  {
   "cell_type": "markdown",
   "id": "453652a7",
   "metadata": {},
   "source": [
    "## Dealing with multicolinearity"
   ]
  },
  {
   "cell_type": "code",
   "execution_count": null,
   "id": "32438621",
   "metadata": {},
   "outputs": [],
   "source": [
    "corr_matrix = df.corr().abs() \n",
    "\n",
    "mask = np.triu(np.ones_like(corr_matrix, dtype = bool))\n",
    "tri_df = corr_matrix.mask(mask)\n",
    "\n",
    "to_drop = [x for x in tri_df.columns if any(tri_df[x] > 0.92)]\n",
    "\n",
    "df1 = df.drop(to_drop, axis = 1)\n",
    "\n",
    "print(f\"The reduced dataframe has {df1.shape[1]} columns.\")"
   ]
  },
  {
   "cell_type": "markdown",
   "id": "a8da2537",
   "metadata": {},
   "source": [
    "## Dealing with outliers"
   ]
  },
  {
   "cell_type": "code",
   "execution_count": null,
   "id": "4f4be52f",
   "metadata": {},
   "outputs": [],
   "source": [
    "## treating outliers by capping the values\n",
    "def mod_outlier(df):\n",
    "        df1 = df.copy()\n",
    "        df = df._get_numeric_data()\n",
    "\n",
    "        q1 = df.quantile(0.25)\n",
    "        q3 = df.quantile(0.75)\n",
    "\n",
    "        iqr = q3 - q1\n",
    "\n",
    "        lower_bound = q1 -(1.5 * iqr) \n",
    "        upper_bound = q3 +(1.5 * iqr)\n",
    "\n",
    "        for col in df.columns:\n",
    "            for i in range(0,len(df[col])):\n",
    "                if df[col][i] < lower_bound[col]:            \n",
    "                    df[col][i] = lower_bound[col]\n",
    "\n",
    "                if df[col][i] > upper_bound[col]:            \n",
    "                    df[col][i] = upper_bound[col]    \n",
    "\n",
    "\n",
    "        for col in df.columns:\n",
    "            df1[col] = df[col]\n",
    "\n",
    "        return(df1)"
   ]
  },
  {
   "cell_type": "code",
   "execution_count": null,
   "id": "76b659e1",
   "metadata": {},
   "outputs": [],
   "source": [
    "df1 = mod_outlier(df1)"
   ]
  },
  {
   "cell_type": "code",
   "execution_count": null,
   "id": "be1eb471",
   "metadata": {},
   "outputs": [],
   "source": [
    "df1.describe()"
   ]
  },
  {
   "cell_type": "code",
   "execution_count": null,
   "id": "6159e814",
   "metadata": {},
   "outputs": [],
   "source": [
    "var1 = df1.columns"
   ]
  },
  {
   "cell_type": "code",
   "execution_count": null,
   "id": "e45e5934",
   "metadata": {},
   "outputs": [],
   "source": [
    "def box_plot(a,df):\n",
    "    sns.boxplot(x=a,\n",
    "    data=df\n",
    "    )\n",
    "    plt.tight_layout()\n",
    "    plt.show()"
   ]
  },
  {
   "cell_type": "code",
   "execution_count": null,
   "id": "c97085a6",
   "metadata": {
    "scrolled": false
   },
   "outputs": [],
   "source": [
    "for i in var1:\n",
    "    box_plot(i,df1)"
   ]
  },
  {
   "cell_type": "markdown",
   "id": "9bba7596",
   "metadata": {},
   "source": [
    "## Model Building 2"
   ]
  },
  {
   "cell_type": "code",
   "execution_count": null,
   "id": "822bdee3",
   "metadata": {
    "scrolled": true
   },
   "outputs": [],
   "source": [
    "df1.head()"
   ]
  },
  {
   "cell_type": "code",
   "execution_count": null,
   "id": "2a5939d7",
   "metadata": {},
   "outputs": [],
   "source": [
    "df1.describe()"
   ]
  },
  {
   "cell_type": "code",
   "execution_count": null,
   "id": "16a69336",
   "metadata": {},
   "outputs": [],
   "source": [
    "# creating features and label \n",
    "\n",
    "X = df1.drop('diagnosis', axis = 1)\n",
    "y = df1['diagnosis']"
   ]
  },
  {
   "cell_type": "code",
   "execution_count": null,
   "id": "ee7d0215",
   "metadata": {},
   "outputs": [],
   "source": [
    "X_train, X_test, y_train, y_test = train_test_split(X, y, test_size = 0.30, random_state = 0)"
   ]
  },
  {
   "cell_type": "code",
   "execution_count": null,
   "id": "e2fcff05",
   "metadata": {},
   "outputs": [],
   "source": [
    "## scaling the data since they are not in the same scale\n",
    "from sklearn.preprocessing import StandardScaler\n",
    "\n",
    "scaler = StandardScaler()\n",
    "\n",
    "X_train = scaler.fit_transform(X_train)\n",
    "X_test = scaler.transform(X_test)"
   ]
  },
  {
   "cell_type": "code",
   "execution_count": null,
   "id": "5eaaff06",
   "metadata": {},
   "outputs": [],
   "source": [
    "log1 = LogisticRegression()\n",
    "knn1 = KNeighborsClassifier()\n",
    "svc1 = SVC(probability=True)\n",
    "rf1= RandomForestClassifier()\n",
    "gb1 = GradientBoostingClassifier()\n",
    "xgb1 = XGBClassifier(verbosity = 0)\n",
    "dt1 = DecisionTreeClassifier()\n",
    "ada1 = AdaBoostClassifier()\n",
    "lgbm1 = lgb.LGBMClassifier()"
   ]
  },
  {
   "cell_type": "code",
   "execution_count": null,
   "id": "048c06f9",
   "metadata": {},
   "outputs": [],
   "source": [
    "mod = [log1,knn1,svc1,rf1,gb1,xgb1,dt1,ada1,lgbm1]"
   ]
  },
  {
   "cell_type": "code",
   "execution_count": null,
   "id": "aa288584",
   "metadata": {
    "scrolled": false
   },
   "outputs": [],
   "source": [
    "for i in mod:\n",
    "    print(i)\n",
    "    model_build(i)"
   ]
  },
  {
   "cell_type": "markdown",
   "id": "f608607e",
   "metadata": {},
   "source": [
    "## Using Cross Validation"
   ]
  },
  {
   "cell_type": "code",
   "execution_count": null,
   "id": "1fb84932",
   "metadata": {},
   "outputs": [],
   "source": [
    "from sklearn.model_selection import cross_val_score"
   ]
  },
  {
   "cell_type": "code",
   "execution_count": null,
   "id": "d885243f",
   "metadata": {},
   "outputs": [],
   "source": [
    "def cross_val_model(a):\n",
    "    scores = cross_val_score(a, X, y, cv=5)\n",
    "    print(\"Scores:{}\".format(scores))\n",
    "    print(\"Mean Cross Validation score is: {}\".format(scores.mean()))"
   ]
  },
  {
   "cell_type": "code",
   "execution_count": null,
   "id": "09822f14",
   "metadata": {},
   "outputs": [],
   "source": [
    "for i in mod:\n",
    "    print(i)\n",
    "    cross_val_model(i)\n",
    "    print()"
   ]
  },
  {
   "cell_type": "markdown",
   "id": "a912eae7",
   "metadata": {},
   "source": [
    "## Hyperparameter Tuning"
   ]
  },
  {
   "cell_type": "markdown",
   "id": "972c505e",
   "metadata": {},
   "source": [
    "## Logistic Regression"
   ]
  },
  {
   "cell_type": "code",
   "execution_count": null,
   "id": "07fd5d85",
   "metadata": {},
   "outputs": [],
   "source": [
    "param_grid = [    \n",
    "    {'penalty' : ['l1', 'l2', 'elasticnet', 'none'],\n",
    "    'C' : np.logspace(-4, 4, 20),\n",
    "    'solver' : ['lbfgs','newton-cg','liblinear','sag','saga'],\n",
    "    'max_iter' : [100, 1000,2500, 5000]\n",
    "    }\n",
    "]"
   ]
  },
  {
   "cell_type": "code",
   "execution_count": null,
   "id": "04a26ad7",
   "metadata": {},
   "outputs": [],
   "source": [
    "clf = GridSearchCV(LogisticRegression(), param_grid = param_grid, cv = 10, verbose=True, n_jobs=-1)"
   ]
  },
  {
   "cell_type": "code",
   "execution_count": null,
   "id": "1d6f5ddf",
   "metadata": {},
   "outputs": [],
   "source": [
    "best_clf = clf.fit(X_train,y_train)"
   ]
  },
  {
   "cell_type": "code",
   "execution_count": null,
   "id": "052f0c4a",
   "metadata": {},
   "outputs": [],
   "source": [
    "best_clf.best_estimator_"
   ]
  },
  {
   "cell_type": "code",
   "execution_count": null,
   "id": "716f7a31",
   "metadata": {},
   "outputs": [],
   "source": [
    "best_clf.best_score_"
   ]
  },
  {
   "cell_type": "code",
   "execution_count": null,
   "id": "2038a9eb",
   "metadata": {},
   "outputs": [],
   "source": [
    "log2 = LogisticRegression(C=1.623776739188721, penalty='l1', solver='saga')"
   ]
  },
  {
   "cell_type": "code",
   "execution_count": null,
   "id": "964fa2e6",
   "metadata": {},
   "outputs": [],
   "source": [
    "scores = cross_val_score(log1, X, y, cv=10)\n",
    "print(\"Scores:{}\".format(scores))\n",
    "print(\"Mean Cross Validation score is: {}\".format(scores.mean()))\n",
    "\n",
    "print(\"\")\n",
    "\n",
    "scores = cross_val_score(log2, X, y, cv=10)\n",
    "print(\"Scores:{}\".format(scores))\n",
    "print(\"Mean Cross Validation score is: {}\".format(scores.mean()))"
   ]
  },
  {
   "cell_type": "code",
   "execution_count": null,
   "id": "08c3d21c",
   "metadata": {
    "scrolled": false
   },
   "outputs": [],
   "source": [
    "model_build(log1)\n",
    "\n",
    "print(\"\")\n",
    "\n",
    "model_build(log2)"
   ]
  },
  {
   "cell_type": "code",
   "execution_count": null,
   "id": "cf381c4b",
   "metadata": {},
   "outputs": [],
   "source": [
    "from sklearn import metrics"
   ]
  },
  {
   "cell_type": "code",
   "execution_count": null,
   "id": "355f4823",
   "metadata": {},
   "outputs": [],
   "source": [
    "# calculating the accuracy of models with different values of k\n",
    "mean_acc = np.zeros(40)\n",
    "for i in range(1,41):\n",
    "    #Train Model and Predict  \n",
    "    knn = KNeighborsClassifier(n_neighbors = i).fit(X_train,y_train)\n",
    "    yhat= knn.predict(X_test)\n",
    "    mean_acc[i-1] = metrics.accuracy_score(y_test, yhat)\n",
    "\n",
    "mean_acc"
   ]
  },
  {
   "cell_type": "code",
   "execution_count": null,
   "id": "feca780c",
   "metadata": {},
   "outputs": [],
   "source": [
    "loc = np.arange(1,41,step=1.0)\n",
    "plt.figure(figsize = (10, 6))\n",
    "plt.plot(range(1,41), mean_acc)\n",
    "plt.xticks(loc)\n",
    "plt.xlabel('Number of Neighbors ')\n",
    "plt.ylabel('Accuracy')\n",
    "plt.show()"
   ]
  },
  {
   "cell_type": "markdown",
   "id": "e1d2b913",
   "metadata": {},
   "source": [
    "Most accuracy is at n=17. "
   ]
  },
  {
   "cell_type": "code",
   "execution_count": null,
   "id": "4ab711b7",
   "metadata": {},
   "outputs": [],
   "source": [
    "grid_params = { 'n_neighbors' : [17],\n",
    "               'weights' : ['uniform','distance'],\n",
    "               'metric' : ['minkowski','euclidean','manhattan']}"
   ]
  },
  {
   "cell_type": "code",
   "execution_count": null,
   "id": "8f3bf715",
   "metadata": {},
   "outputs": [],
   "source": [
    "gs = GridSearchCV(KNeighborsClassifier(), grid_params, verbose = 1, cv=10, n_jobs = -1)"
   ]
  },
  {
   "cell_type": "code",
   "execution_count": null,
   "id": "1d6756d4",
   "metadata": {},
   "outputs": [],
   "source": [
    "g_res = gs.fit(X_train, y_train)"
   ]
  },
  {
   "cell_type": "code",
   "execution_count": null,
   "id": "ae0f505b",
   "metadata": {},
   "outputs": [],
   "source": [
    "g_res.best_estimator_"
   ]
  },
  {
   "cell_type": "code",
   "execution_count": null,
   "id": "7f60f39f",
   "metadata": {},
   "outputs": [],
   "source": [
    "g_res.best_score_"
   ]
  },
  {
   "cell_type": "code",
   "execution_count": null,
   "id": "2ff5690c",
   "metadata": {},
   "outputs": [],
   "source": [
    "knn2 = KNeighborsClassifier(metric='manhattan', n_neighbors=17, weights='distance')"
   ]
  },
  {
   "cell_type": "code",
   "execution_count": null,
   "id": "3420dd96",
   "metadata": {},
   "outputs": [],
   "source": [
    "scores = cross_val_score(knn1, X, y, cv=10)\n",
    "print(\"Scores:{}\".format(scores))\n",
    "print(\"Mean Cross Validation score is: {}\".format(scores.mean()))\n",
    "\n",
    "print(\"\")\n",
    "\n",
    "scores = cross_val_score(knn2, X, y, cv=10)\n",
    "print(\"Scores:{}\".format(scores))\n",
    "print(\"Mean Cross Validation score is: {}\".format(scores.mean()))"
   ]
  },
  {
   "cell_type": "code",
   "execution_count": null,
   "id": "f2669a2c",
   "metadata": {
    "scrolled": false
   },
   "outputs": [],
   "source": [
    "model_build(knn1)\n",
    "\n",
    "print(\"\")\n",
    "\n",
    "model_build(knn2)"
   ]
  },
  {
   "cell_type": "markdown",
   "id": "0e5adc91",
   "metadata": {},
   "source": [
    "## Support Vector Classifier"
   ]
  },
  {
   "cell_type": "code",
   "execution_count": null,
   "id": "feeee8ae",
   "metadata": {},
   "outputs": [],
   "source": [
    "parameters = {\n",
    "    'gamma' : [0.0001, 0.001, 0.01, 0.1],\n",
    "    'C' : [0.01, 0.05, 0.5, 0.1, 1, 10, 15, 20],\n",
    "    'kernel' : ['linear', 'poly', 'rbf', 'sigmoid']\n",
    "}"
   ]
  },
  {
   "cell_type": "code",
   "execution_count": null,
   "id": "9ee23ffd",
   "metadata": {},
   "outputs": [],
   "source": [
    "grid_search = GridSearchCV(SVC(), parameters,verbose = 1,cv=10,n_jobs=-1)\n",
    "grid_search.fit(X_train, y_train)"
   ]
  },
  {
   "cell_type": "code",
   "execution_count": null,
   "id": "064ffdad",
   "metadata": {},
   "outputs": [],
   "source": [
    "grid_search.best_estimator_"
   ]
  },
  {
   "cell_type": "code",
   "execution_count": null,
   "id": "fc4a27d2",
   "metadata": {
    "scrolled": true
   },
   "outputs": [],
   "source": [
    "grid_search.best_score_"
   ]
  },
  {
   "cell_type": "code",
   "execution_count": null,
   "id": "2ef1aaa9",
   "metadata": {},
   "outputs": [],
   "source": [
    "svc2 = SVC(C=10, gamma=0.01,probability=True)"
   ]
  },
  {
   "cell_type": "code",
   "execution_count": null,
   "id": "ad339119",
   "metadata": {},
   "outputs": [],
   "source": [
    "scores = cross_val_score(svc1, X, y, cv=10)\n",
    "print(\"Scores:{}\".format(scores))\n",
    "print(\"Mean Cross Validation score is: {}\".format(scores.mean()))\n",
    "\n",
    "print(\"\")\n",
    "\n",
    "scores = cross_val_score(svc2, X, y, cv=10)\n",
    "print(\"Scores:{}\".format(scores))\n",
    "print(\"Mean Cross Validation score is: {}\".format(scores.mean()))"
   ]
  },
  {
   "cell_type": "code",
   "execution_count": null,
   "id": "329b41de",
   "metadata": {
    "scrolled": false
   },
   "outputs": [],
   "source": [
    "model_build(svc1)\n",
    "\n",
    "print(\"\")\n",
    "\n",
    "model_build(svc2)"
   ]
  },
  {
   "cell_type": "markdown",
   "id": "c6675bee",
   "metadata": {},
   "source": [
    "## Random Forest"
   ]
  },
  {
   "cell_type": "code",
   "execution_count": null,
   "id": "f4b8fe55",
   "metadata": {},
   "outputs": [],
   "source": [
    "rf2 = RandomForestClassifier(criterion = 'entropy', max_depth = 11, max_features = 'auto',\n",
    "                                  min_samples_leaf = 2, min_samples_split = 3, n_estimators = 130)\n",
    "rf2.fit(X_train, y_train)"
   ]
  },
  {
   "cell_type": "code",
   "execution_count": null,
   "id": "83fa9966",
   "metadata": {},
   "outputs": [],
   "source": [
    "y_pred = rf2.predict(X_test)"
   ]
  },
  {
   "cell_type": "code",
   "execution_count": null,
   "id": "cb1fe798",
   "metadata": {},
   "outputs": [],
   "source": [
    "# accuracy score\n",
    "\n",
    "print(accuracy_score(y_train, rf2.predict(X_train)))\n",
    "\n",
    "rf_acc = accuracy_score(y_test, y_pred)\n",
    "print(rf)"
   ]
  },
  {
   "cell_type": "code",
   "execution_count": null,
   "id": "7dd20856",
   "metadata": {},
   "outputs": [],
   "source": [
    "scores = cross_val_score(rf1, X, y, cv=10)\n",
    "print(\"Scores:{}\".format(scores))\n",
    "print(\"Mean Cross Validation score is: {}\".format(scores.mean()))\n",
    "\n",
    "print(\"\")\n",
    "\n",
    "scores = cross_val_score(rf2, X, y, cv=10)\n",
    "print(\"Scores:{}\".format(scores))\n",
    "print(\"Mean Cross Validation score is: {}\".format(scores.mean()))"
   ]
  },
  {
   "cell_type": "code",
   "execution_count": null,
   "id": "867b3c52",
   "metadata": {
    "scrolled": false
   },
   "outputs": [],
   "source": [
    "model_build(rf1)\n",
    "\n",
    "print(\"\")\n",
    "\n",
    "model_build(rf2)"
   ]
  },
  {
   "cell_type": "markdown",
   "id": "61b6c975",
   "metadata": {},
   "source": [
    "## Gradient Boosting Classifier"
   ]
  },
  {
   "cell_type": "code",
   "execution_count": null,
   "id": "d648d435",
   "metadata": {},
   "outputs": [],
   "source": [
    "parameters = {\n",
    "    'loss': ['deviance', 'exponential'],\n",
    "    'learning_rate': [0.001, 0.1, 1, 10],\n",
    "    'n_estimators': [100, 150, 180, 200]\n",
    "}"
   ]
  },
  {
   "cell_type": "code",
   "execution_count": null,
   "id": "77eeca0b",
   "metadata": {},
   "outputs": [],
   "source": [
    "grid_search_gbc = GridSearchCV(GradientBoostingClassifier(), parameters, cv = 10, n_jobs = -1, verbose = 1)\n",
    "grid_search_gbc.fit(X_train, y_train)"
   ]
  },
  {
   "cell_type": "code",
   "execution_count": null,
   "id": "bbf3c5f2",
   "metadata": {},
   "outputs": [],
   "source": [
    "grid_search_gbc.best_estimator_"
   ]
  },
  {
   "cell_type": "code",
   "execution_count": null,
   "id": "f757a46f",
   "metadata": {},
   "outputs": [],
   "source": [
    "grid_search_gbc.best_score_"
   ]
  },
  {
   "cell_type": "code",
   "execution_count": null,
   "id": "76d2a5ab",
   "metadata": {},
   "outputs": [],
   "source": [
    "gb2 = GradientBoostingClassifier(learning_rate=1, loss='exponential',\n",
    "                           n_estimators=200)"
   ]
  },
  {
   "cell_type": "code",
   "execution_count": null,
   "id": "f6e19a54",
   "metadata": {},
   "outputs": [],
   "source": [
    "scores = cross_val_score(gb1, X, y, cv=10)\n",
    "print(\"Scores:{}\".format(scores))\n",
    "print(\"Mean Cross Validation score is: {}\".format(scores.mean()))\n",
    "\n",
    "print(\"\")\n",
    "\n",
    "scores = cross_val_score(gb2, X, y, cv=10)\n",
    "print(\"Scores:{}\".format(scores))\n",
    "print(\"Mean Cross Validation score is: {}\".format(scores.mean()))"
   ]
  },
  {
   "cell_type": "code",
   "execution_count": null,
   "id": "2c55b3e0",
   "metadata": {
    "scrolled": false
   },
   "outputs": [],
   "source": [
    "model_build(gb1)\n",
    "\n",
    "print(\"\")\n",
    "\n",
    "model_build(gb2)"
   ]
  },
  {
   "cell_type": "markdown",
   "id": "a28c7a70",
   "metadata": {},
   "source": [
    "## XGBoost"
   ]
  },
  {
   "cell_type": "code",
   "execution_count": null,
   "id": "38982470",
   "metadata": {},
   "outputs": [],
   "source": [
    "params = {\n",
    "    'n_estimators': [100, 200, 500],\n",
    "    'learning_rate': [0.01,0.05,0.1],\n",
    "    'booster': ['gbtree', 'gblinear'],\n",
    "    'gamma': [0, 0.5, 1],\n",
    "    'reg_alpha': [0, 0.5, 1],\n",
    "    'reg_lambda': [0.5, 1, 5],\n",
    "    'base_score': [0.2, 0.5, 1]\n",
    "}"
   ]
  },
  {
   "cell_type": "code",
   "execution_count": null,
   "id": "77db03de",
   "metadata": {},
   "outputs": [],
   "source": [
    "gs2 = GridSearchCV(XGBClassifier(), parameters, cv = 10, n_jobs = -1, verbose = 1)\n",
    "gs2.fit(X_train, y_train)"
   ]
  },
  {
   "cell_type": "code",
   "execution_count": null,
   "id": "bc12aeee",
   "metadata": {},
   "outputs": [],
   "source": [
    "gs2.best_score_"
   ]
  },
  {
   "cell_type": "code",
   "execution_count": null,
   "id": "1d644b90",
   "metadata": {},
   "outputs": [],
   "source": [
    "gs2.best_estimator_"
   ]
  },
  {
   "cell_type": "code",
   "execution_count": null,
   "id": "2e7da6c9",
   "metadata": {},
   "outputs": [],
   "source": [
    "xgb2 = XGBClassifier(base_score=0.5, booster='gbtree', colsample_bylevel=1,\n",
    "              colsample_bynode=1, colsample_bytree=1, gamma=0, gpu_id=-1,\n",
    "              importance_type='gain', interaction_constraints='',\n",
    "              learning_rate=1, loss='deviance', max_delta_step=0, max_depth=6,\n",
    "              min_child_weight=1, monotone_constraints='()',\n",
    "              n_estimators=100, n_jobs=12, num_parallel_tree=1, random_state=0,\n",
    "              reg_alpha=0, reg_lambda=1, scale_pos_weight=1, subsample=1,\n",
    "              tree_method='exact', validate_parameters=1, verbosity=None)"
   ]
  },
  {
   "cell_type": "code",
   "execution_count": null,
   "id": "dbc8fb6c",
   "metadata": {},
   "outputs": [],
   "source": [
    "scores = cross_val_score(xgb1, X, y, cv=10)\n",
    "print(\"Scores:{}\".format(scores))\n",
    "print(\"Mean Cross Validation score is: {}\".format(scores.mean()))\n",
    "\n",
    "print(\"\")\n",
    "\n",
    "scores = cross_val_score(xgb2, X, y, cv=10)\n",
    "print(\"Scores:{}\".format(scores))\n",
    "print(\"Mean Cross Validation score is: {}\".format(scores.mean()))"
   ]
  },
  {
   "cell_type": "code",
   "execution_count": null,
   "id": "d4b4b93e",
   "metadata": {
    "scrolled": false
   },
   "outputs": [],
   "source": [
    "model_build(xgb1)\n",
    "\n",
    "print(\"\")\n",
    "\n",
    "model_build(xgb2)"
   ]
  },
  {
   "cell_type": "markdown",
   "id": "f1260011",
   "metadata": {},
   "source": [
    "## Decision Tree"
   ]
  },
  {
   "cell_type": "code",
   "execution_count": null,
   "id": "d6e9a6c8",
   "metadata": {},
   "outputs": [],
   "source": [
    "parameters = {\n",
    "    'criterion' : ['gini', 'entropy'],\n",
    "    'max_depth' : range(2, 32, 1),\n",
    "    'min_samples_leaf' : range(1, 10, 1),\n",
    "    'min_samples_split' : range(2, 10, 1),\n",
    "    'splitter' : ['best', 'random']\n",
    "}"
   ]
  },
  {
   "cell_type": "code",
   "execution_count": null,
   "id": "cac1284e",
   "metadata": {},
   "outputs": [],
   "source": [
    "grid_search_dt = GridSearchCV(DecisionTreeClassifier(), parameters, cv = 10, n_jobs = -1, verbose = 1)\n",
    "grid_search_dt.fit(X_train, y_train)"
   ]
  },
  {
   "cell_type": "code",
   "execution_count": null,
   "id": "640c3996",
   "metadata": {},
   "outputs": [],
   "source": [
    "grid_search_dt.best_score_"
   ]
  },
  {
   "cell_type": "code",
   "execution_count": null,
   "id": "92227f7e",
   "metadata": {},
   "outputs": [],
   "source": [
    "grid_search_dt.best_estimator_"
   ]
  },
  {
   "cell_type": "code",
   "execution_count": null,
   "id": "6ae2bc8e",
   "metadata": {},
   "outputs": [],
   "source": [
    "dt2 = DecisionTreeClassifier(criterion='entropy', max_depth=27, min_samples_split=3,\n",
    "                       splitter='random')"
   ]
  },
  {
   "cell_type": "code",
   "execution_count": null,
   "id": "cf49085b",
   "metadata": {},
   "outputs": [],
   "source": [
    "scores = cross_val_score(dt1, X, y, cv=10)\n",
    "print(\"Scores:{}\".format(scores))\n",
    "print(\"Mean Cross Validation score is: {}\".format(scores.mean()))\n",
    "\n",
    "print(\"\")\n",
    "\n",
    "scores = cross_val_score(dt2, X, y, cv=10)\n",
    "print(\"Scores:{}\".format(scores))\n",
    "print(\"Mean Cross Validation score is: {}\".format(scores.mean()))"
   ]
  },
  {
   "cell_type": "code",
   "execution_count": null,
   "id": "574077d2",
   "metadata": {
    "scrolled": false
   },
   "outputs": [],
   "source": [
    "model_build(dt1)\n",
    "\n",
    "print(\"\")\n",
    "\n",
    "model_build(dt2)"
   ]
  },
  {
   "cell_type": "markdown",
   "id": "ccb92dfa",
   "metadata": {},
   "source": [
    "## Ada Boost Classifier"
   ]
  },
  {
   "cell_type": "code",
   "execution_count": null,
   "id": "e2343c29",
   "metadata": {},
   "outputs": [],
   "source": [
    "parameter = {\n",
    "    'n_estimators' : [100,200],\n",
    "    'learning_rate' : [0.001,0.01,0.1,0.2,0.5] \n",
    "}"
   ]
  },
  {
   "cell_type": "code",
   "execution_count": null,
   "id": "a1bb9d79",
   "metadata": {},
   "outputs": [],
   "source": [
    "gs_ad = GridSearchCV(AdaBoostClassifier(),param_grid=parameter,cv=10,n_jobs=-1)\n",
    "gs_ad.fit(X_train,y_train)"
   ]
  },
  {
   "cell_type": "code",
   "execution_count": null,
   "id": "0a5bb7f3",
   "metadata": {},
   "outputs": [],
   "source": [
    "gs_ad.best_score_"
   ]
  },
  {
   "cell_type": "code",
   "execution_count": null,
   "id": "206250e4",
   "metadata": {},
   "outputs": [],
   "source": [
    "gs_ad.best_estimator_"
   ]
  },
  {
   "cell_type": "code",
   "execution_count": null,
   "id": "ad78924a",
   "metadata": {},
   "outputs": [],
   "source": [
    "ada2 = AdaBoostClassifier(learning_rate=0.1, n_estimators=200)"
   ]
  },
  {
   "cell_type": "code",
   "execution_count": null,
   "id": "01874feb",
   "metadata": {},
   "outputs": [],
   "source": [
    "scores = cross_val_score(ada1, X, y, cv=10)\n",
    "print(\"Scores:{}\".format(scores))\n",
    "print(\"Mean Cross Validation score is: {}\".format(scores.mean()))\n",
    "\n",
    "print(\"\")\n",
    "\n",
    "scores = cross_val_score(ada2, X, y, cv=10)\n",
    "print(\"Scores:{}\".format(scores))\n",
    "print(\"Mean Cross Validation score is: {}\".format(scores.mean()))"
   ]
  },
  {
   "cell_type": "code",
   "execution_count": null,
   "id": "12e0c16c",
   "metadata": {
    "scrolled": false
   },
   "outputs": [],
   "source": [
    "model_build(ada1)\n",
    "\n",
    "print(\"\")\n",
    "\n",
    "model_build(ada2)"
   ]
  },
  {
   "cell_type": "markdown",
   "id": "38df6e8b",
   "metadata": {},
   "source": [
    "## LightGBM Classifier"
   ]
  },
  {
   "cell_type": "code",
   "execution_count": null,
   "id": "a9a22ad2",
   "metadata": {
    "scrolled": true
   },
   "outputs": [],
   "source": [
    "param_grid={'learning_rate': np.logspace(-3, -1, 3),\n",
    "            'max_depth':  np.linspace(5,12,8,dtype = int),\n",
    "            'n_estimators': np.linspace(800,1200,5, dtype = int),\n",
    "            }\n",
    "\n",
    "gs_lgbm=GridSearchCV(lgb.LGBMClassifier(),param_grid=param_grid, n_jobs=-1, cv=10, verbose=False)"
   ]
  },
  {
   "cell_type": "code",
   "execution_count": null,
   "id": "54f6f917",
   "metadata": {},
   "outputs": [],
   "source": [
    "gs_lgbm.fit(X_train,y_train)"
   ]
  },
  {
   "cell_type": "code",
   "execution_count": null,
   "id": "a04956ac",
   "metadata": {},
   "outputs": [],
   "source": [
    "gs_lgbm.best_score_"
   ]
  },
  {
   "cell_type": "code",
   "execution_count": null,
   "id": "a7bf7823",
   "metadata": {},
   "outputs": [],
   "source": [
    "gs_lgbm.best_estimator_"
   ]
  },
  {
   "cell_type": "code",
   "execution_count": null,
   "id": "bb3f7549",
   "metadata": {},
   "outputs": [],
   "source": [
    "lgbm2 = lgb.LGBMClassifier(max_depth=8, n_estimators=800)"
   ]
  },
  {
   "cell_type": "code",
   "execution_count": null,
   "id": "45b54cf4",
   "metadata": {},
   "outputs": [],
   "source": [
    "scores = cross_val_score(lgbm1, X, y, cv=10)\n",
    "print(\"Scores:{}\".format(scores))\n",
    "print(\"Mean Cross Validation score is: {}\".format(scores.mean()))\n",
    "\n",
    "print(\"\")\n",
    "\n",
    "scores = cross_val_score(lgbm2, X, y, cv=10)\n",
    "print(\"Scores:{}\".format(scores))\n",
    "print(\"Mean Cross Validation score is: {}\".format(scores.mean()))"
   ]
  },
  {
   "cell_type": "code",
   "execution_count": null,
   "id": "c20ab356",
   "metadata": {
    "scrolled": false
   },
   "outputs": [],
   "source": [
    "model_build(lgbm1)\n",
    "\n",
    "print(\"\")\n",
    "\n",
    "model_build(lgbm2)"
   ]
  },
  {
   "cell_type": "markdown",
   "id": "ae541b9f",
   "metadata": {},
   "source": [
    "## Using Stratified K fold Cross Validation"
   ]
  },
  {
   "cell_type": "code",
   "execution_count": null,
   "id": "1e20aa16",
   "metadata": {},
   "outputs": [],
   "source": [
    "from sklearn.model_selection import StratifiedKFold"
   ]
  },
  {
   "cell_type": "code",
   "execution_count": null,
   "id": "53b4eea3",
   "metadata": {},
   "outputs": [],
   "source": [
    "from sklearn.metrics import roc_auc_score"
   ]
  },
  {
   "cell_type": "code",
   "execution_count": null,
   "id": "239e97f2",
   "metadata": {
    "scrolled": true
   },
   "outputs": [],
   "source": [
    "X1 = np.asanyarray(X)\n",
    "y1 = np.asanyarray(y)"
   ]
  },
  {
   "cell_type": "code",
   "execution_count": null,
   "id": "d62dd89c",
   "metadata": {
    "scrolled": false
   },
   "outputs": [],
   "source": [
    "def StratifiedModelScores(model):\n",
    "    acc_model=[]\n",
    "    prec_model=[]\n",
    "    recall_model=[]\n",
    "    f1_model=[]\n",
    "    mae_model=[]\n",
    "    rmse_model=[]\n",
    "    r2_model=[]\n",
    "    kappa_model=[]\n",
    "\n",
    "    skf=StratifiedKFold(n_splits=10)\n",
    "    for train_index, test_index in skf.split(X, y):     \n",
    "        X_train, X_test = X1[train_index], X1[test_index]\n",
    "        y_train, y_test = y1[train_index], y1[test_index]\n",
    "\n",
    "        # clf=GradientBoostingClassifier(learning_rate=1, loss='exponential',\n",
    "                               #n_estimators=200)\n",
    "        model.fit(X_train,y_train)\n",
    "        y_pred=model.predict(X_test)\n",
    "        # print(f\"The fold is : {fold} : \")\n",
    "        print(classification_report(y_test,y_pred))\n",
    "        acc=round(accuracy_score(y_test,y_pred),ndigits=3)\n",
    "        prec = round(precision_score(y_test,y_pred),ndigits=3)\n",
    "        recall = round(recall_score(y_test,y_pred),ndigits=3)\n",
    "        f1 = round(f1_score(y_test,y_pred),ndigits=3)\n",
    "        mae = round(mean_absolute_error(y_pred,y_test),ndigits=3)\n",
    "        rmse = round(math.sqrt(mean_squared_error(y_pred,y_test)),ndigits=3)\n",
    "        r2 = round(r2_score(y_pred,y_test),ndigits=3)\n",
    "        kappa = round(cohen_kappa_score(y_test,y_pred),ndigits=3)\n",
    "        acc_model.append(acc)\n",
    "        prec_model.append(prec)\n",
    "        recall_model.append(recall)\n",
    "        f1_model.append(f1)\n",
    "        mae_model.append(mae)\n",
    "        rmse_model.append(rmse)\n",
    "        r2_model.append(r2)\n",
    "        kappa_model.append(kappa)\n",
    "        # print(f\"The accuracy for {fold+1} : {acc}\")\n",
    "        pass\n",
    "\n",
    "    print(\"Mean Accuracy: {}\".format(round(np.mean(acc_model),ndigits=3)))\n",
    "    print(\"Mean Precision: {}\".format(round(np.mean(prec_model),ndigits=3)))\n",
    "    print(\"Mean Recall: {}\".format(round(np.mean(recall_model),ndigits=3)))\n",
    "    print(\"Mean F1 Score: {}\".format(round(np.mean(f1_model),ndigits=3)))\n",
    "    print(\"Mean Absolute Error: {}\".format(round(np.mean(mae_model),ndigits=3)))\n",
    "    print(\"Root Mean Squared Error: {}\".format(round(np.mean(rmse_model),ndigits=3)))\n",
    "    print(\"Mean R2 Value: {}\".format(round(np.mean(r2_model),ndigits=3)))\n",
    "    print(\"Mean Cohen Kappa Score: {}\".format(round(np.mean(kappa_model),ndigits=3)))"
   ]
  },
  {
   "cell_type": "code",
   "execution_count": null,
   "id": "68e54cf5",
   "metadata": {},
   "outputs": [],
   "source": [
    "model1 = LogisticRegression(C=1.623776739188721, penalty='l1', solver='saga')"
   ]
  },
  {
   "cell_type": "code",
   "execution_count": null,
   "id": "b46effcf",
   "metadata": {},
   "outputs": [],
   "source": [
    "StratifiedModelScores(model1)"
   ]
  },
  {
   "cell_type": "code",
   "execution_count": null,
   "id": "0bfd65da",
   "metadata": {},
   "outputs": [],
   "source": [
    "model2 = KNeighborsClassifier(metric='manhattan', n_neighbors=17, weights='distance')"
   ]
  },
  {
   "cell_type": "code",
   "execution_count": null,
   "id": "205b3f6c",
   "metadata": {},
   "outputs": [],
   "source": [
    "StratifiedModelScores(model2)"
   ]
  },
  {
   "cell_type": "code",
   "execution_count": null,
   "id": "32f615f9",
   "metadata": {},
   "outputs": [],
   "source": [
    "model3 = SVC(C=10, gamma=0.01,probability=True)\n",
    "StratifiedModelScores(model3)"
   ]
  },
  {
   "cell_type": "code",
   "execution_count": null,
   "id": "d3f56eb0",
   "metadata": {},
   "outputs": [],
   "source": [
    "model4 = RandomForestClassifier(criterion = 'entropy', max_depth = 11, max_features = 'auto',\n",
    "                                  min_samples_leaf = 2, min_samples_split = 3, n_estimators = 130)\n",
    "StratifiedModelScores(model4)"
   ]
  },
  {
   "cell_type": "code",
   "execution_count": null,
   "id": "1c725cc6",
   "metadata": {},
   "outputs": [],
   "source": [
    "model5 = GradientBoostingClassifier(learning_rate=1, loss='exponential',\n",
    "                           n_estimators=200)\n",
    "StratifiedModelScores(model5)"
   ]
  },
  {
   "cell_type": "code",
   "execution_count": null,
   "id": "3c8790bf",
   "metadata": {},
   "outputs": [],
   "source": [
    "model6 = XGBClassifier(base_score=0.5, booster='gbtree', colsample_bylevel=1,\n",
    "              colsample_bynode=1, colsample_bytree=1, gamma=0, gpu_id=-1,\n",
    "              importance_type='gain', interaction_constraints='',\n",
    "              learning_rate=1, loss='deviance', max_delta_step=0, max_depth=6,\n",
    "              min_child_weight=1, monotone_constraints='()',\n",
    "              n_estimators=100, n_jobs=12, num_parallel_tree=1, random_state=0,\n",
    "              reg_alpha=0, reg_lambda=1, scale_pos_weight=1, subsample=1,\n",
    "              tree_method='exact', validate_parameters=1, verbosity=None)\n",
    "StratifiedModelScores(model6)"
   ]
  },
  {
   "cell_type": "code",
   "execution_count": null,
   "id": "5ea2b1f5",
   "metadata": {},
   "outputs": [],
   "source": [
    "model7 = AdaBoostClassifier(learning_rate=0.1, n_estimators=200)\n",
    "StratifiedModelScores(model7)"
   ]
  },
  {
   "cell_type": "code",
   "execution_count": null,
   "id": "2a8028d9",
   "metadata": {},
   "outputs": [],
   "source": [
    "model8 = lgb.LGBMClassifier(max_depth=8, n_estimators=800)\n",
    "StratifiedModelScores(model8)"
   ]
  },
  {
   "cell_type": "markdown",
   "id": "75e3ad2a",
   "metadata": {},
   "source": [
    "## Feature Selection"
   ]
  },
  {
   "cell_type": "code",
   "execution_count": 93,
   "id": "657c3198",
   "metadata": {},
   "outputs": [
    {
     "name": "stdout",
     "output_type": "stream",
     "text": [
      "7 selected features\n"
     ]
    }
   ],
   "source": [
    "from sklearn.feature_selection import SelectFromModel\n",
    "#from lightgbm import LGBMClassifier\n",
    "\n",
    "lgbc=lgb.LGBMClassifier()\n",
    "\n",
    "embeded_lgb_selector = SelectFromModel(lgbc, max_features=7)\n",
    "embeded_lgb_selector.fit(X, y)\n",
    "\n",
    "embeded_lgb_support = embeded_lgb_selector.get_support()\n",
    "embeded_lgb_feature = X.loc[:,embeded_lgb_support].columns.tolist()\n",
    "print(str(len(embeded_lgb_feature)), 'selected features')"
   ]
  },
  {
   "cell_type": "code",
   "execution_count": 94,
   "id": "9bc7a258",
   "metadata": {},
   "outputs": [
    {
     "data": {
      "text/plain": [
       "['texture_mean',\n",
       " 'concave points_mean',\n",
       " 'area_se',\n",
       " 'texture_worst',\n",
       " 'perimeter_worst',\n",
       " 'area_worst',\n",
       " 'concave points_worst']"
      ]
     },
     "execution_count": 94,
     "metadata": {},
     "output_type": "execute_result"
    }
   ],
   "source": [
    "embeded_lgb_feature"
   ]
  },
  {
   "cell_type": "code",
   "execution_count": 95,
   "id": "410bb1ae",
   "metadata": {},
   "outputs": [],
   "source": [
    "X_new = X[embeded_lgb_feature]"
   ]
  },
  {
   "cell_type": "code",
   "execution_count": 96,
   "id": "7f3aa4a4",
   "metadata": {},
   "outputs": [
    {
     "data": {
      "text/html": [
       "<div>\n",
       "<style scoped>\n",
       "    .dataframe tbody tr th:only-of-type {\n",
       "        vertical-align: middle;\n",
       "    }\n",
       "\n",
       "    .dataframe tbody tr th {\n",
       "        vertical-align: top;\n",
       "    }\n",
       "\n",
       "    .dataframe thead th {\n",
       "        text-align: right;\n",
       "    }\n",
       "</style>\n",
       "<table border=\"1\" class=\"dataframe\">\n",
       "  <thead>\n",
       "    <tr style=\"text-align: right;\">\n",
       "      <th></th>\n",
       "      <th>texture_mean</th>\n",
       "      <th>concave points_mean</th>\n",
       "      <th>area_se</th>\n",
       "      <th>texture_worst</th>\n",
       "      <th>perimeter_worst</th>\n",
       "      <th>area_worst</th>\n",
       "      <th>concave points_worst</th>\n",
       "    </tr>\n",
       "  </thead>\n",
       "  <tbody>\n",
       "    <tr>\n",
       "      <th>count</th>\n",
       "      <td>569.000000</td>\n",
       "      <td>569.000000</td>\n",
       "      <td>569.000000</td>\n",
       "      <td>569.000000</td>\n",
       "      <td>569.000000</td>\n",
       "      <td>569.000000</td>\n",
       "      <td>569.000000</td>\n",
       "    </tr>\n",
       "    <tr>\n",
       "      <th>mean</th>\n",
       "      <td>19.289649</td>\n",
       "      <td>0.048919</td>\n",
       "      <td>40.337079</td>\n",
       "      <td>25.677223</td>\n",
       "      <td>107.261213</td>\n",
       "      <td>880.583128</td>\n",
       "      <td>0.114606</td>\n",
       "    </tr>\n",
       "    <tr>\n",
       "      <th>std</th>\n",
       "      <td>4.301036</td>\n",
       "      <td>0.038803</td>\n",
       "      <td>45.491006</td>\n",
       "      <td>6.146258</td>\n",
       "      <td>33.602542</td>\n",
       "      <td>569.356993</td>\n",
       "      <td>0.065732</td>\n",
       "    </tr>\n",
       "    <tr>\n",
       "      <th>min</th>\n",
       "      <td>9.710000</td>\n",
       "      <td>0.000000</td>\n",
       "      <td>6.802000</td>\n",
       "      <td>12.020000</td>\n",
       "      <td>50.410000</td>\n",
       "      <td>185.200000</td>\n",
       "      <td>0.000000</td>\n",
       "    </tr>\n",
       "    <tr>\n",
       "      <th>25%</th>\n",
       "      <td>16.170000</td>\n",
       "      <td>0.020310</td>\n",
       "      <td>17.850000</td>\n",
       "      <td>21.080000</td>\n",
       "      <td>84.110000</td>\n",
       "      <td>515.300000</td>\n",
       "      <td>0.064930</td>\n",
       "    </tr>\n",
       "    <tr>\n",
       "      <th>50%</th>\n",
       "      <td>18.840000</td>\n",
       "      <td>0.033500</td>\n",
       "      <td>24.530000</td>\n",
       "      <td>25.410000</td>\n",
       "      <td>97.660000</td>\n",
       "      <td>686.500000</td>\n",
       "      <td>0.099930</td>\n",
       "    </tr>\n",
       "    <tr>\n",
       "      <th>75%</th>\n",
       "      <td>21.800000</td>\n",
       "      <td>0.074000</td>\n",
       "      <td>45.190000</td>\n",
       "      <td>29.720000</td>\n",
       "      <td>125.400000</td>\n",
       "      <td>1084.000000</td>\n",
       "      <td>0.161400</td>\n",
       "    </tr>\n",
       "    <tr>\n",
       "      <th>max</th>\n",
       "      <td>39.280000</td>\n",
       "      <td>0.201200</td>\n",
       "      <td>542.200000</td>\n",
       "      <td>49.540000</td>\n",
       "      <td>251.200000</td>\n",
       "      <td>4254.000000</td>\n",
       "      <td>0.291000</td>\n",
       "    </tr>\n",
       "  </tbody>\n",
       "</table>\n",
       "</div>"
      ],
      "text/plain": [
       "       texture_mean  concave points_mean     area_se  texture_worst  \\\n",
       "count    569.000000           569.000000  569.000000     569.000000   \n",
       "mean      19.289649             0.048919   40.337079      25.677223   \n",
       "std        4.301036             0.038803   45.491006       6.146258   \n",
       "min        9.710000             0.000000    6.802000      12.020000   \n",
       "25%       16.170000             0.020310   17.850000      21.080000   \n",
       "50%       18.840000             0.033500   24.530000      25.410000   \n",
       "75%       21.800000             0.074000   45.190000      29.720000   \n",
       "max       39.280000             0.201200  542.200000      49.540000   \n",
       "\n",
       "       perimeter_worst   area_worst  concave points_worst  \n",
       "count       569.000000   569.000000            569.000000  \n",
       "mean        107.261213   880.583128              0.114606  \n",
       "std          33.602542   569.356993              0.065732  \n",
       "min          50.410000   185.200000              0.000000  \n",
       "25%          84.110000   515.300000              0.064930  \n",
       "50%          97.660000   686.500000              0.099930  \n",
       "75%         125.400000  1084.000000              0.161400  \n",
       "max         251.200000  4254.000000              0.291000  "
      ]
     },
     "execution_count": 96,
     "metadata": {},
     "output_type": "execute_result"
    }
   ],
   "source": [
    "X_new.describe()"
   ]
  },
  {
   "cell_type": "code",
   "execution_count": 97,
   "id": "35eb5cc8",
   "metadata": {},
   "outputs": [],
   "source": [
    "X_train, X_test, y_train, y_test = train_test_split(X_new, y, test_size = 0.30, random_state = 0)"
   ]
  },
  {
   "cell_type": "code",
   "execution_count": 98,
   "id": "79463f5b",
   "metadata": {},
   "outputs": [],
   "source": [
    "lgbm_test = lgb.LGBMClassifier(max_depth=8, n_estimators=800)"
   ]
  },
  {
   "cell_type": "code",
   "execution_count": 99,
   "id": "c9405232",
   "metadata": {},
   "outputs": [
    {
     "name": "stdout",
     "output_type": "stream",
     "text": [
      "0.176 seconds\n"
     ]
    },
    {
     "data": {
      "image/png": "[encoded data removed]",
      "text/plain": [
       "<Figure size 432x288 with 2 Axes>"
      ]
     },
     "metadata": {
      "needs_background": "light"
     },
     "output_type": "display_data"
    },
    {
     "name": "stdout",
     "output_type": "stream",
     "text": [
      "Accuracy  =     0.971\n",
      "Precision =     0.968\n",
      "Recall    =     0.952\n",
      "F1_score  =     0.960\n",
      "\n",
      "Evaluation Metrics\n",
      "Mean Absolute Error:0.029\n",
      "Root Mean Absolute Error:0.171\n",
      "R2 Squared: 0.873\n",
      "Cohen Kappa Score: 0.937\n"
     ]
    },
    {
     "data": {
      "image/png": "[encoded data removed]",
      "text/plain": [
       "<Figure size 432x288 with 1 Axes>"
      ]
     },
     "metadata": {
      "needs_background": "light"
     },
     "output_type": "display_data"
    },
    {
     "name": "stdout",
     "output_type": "stream",
     "text": [
      "              precision    recall  f1-score   support\n",
      "\n",
      "           0       0.97      0.98      0.98       108\n",
      "           1       0.97      0.95      0.96        63\n",
      "\n",
      "    accuracy                           0.97       171\n",
      "   macro avg       0.97      0.97      0.97       171\n",
      "weighted avg       0.97      0.97      0.97       171\n",
      "\n"
     ]
    }
   ],
   "source": [
    "model_build(lgbm_test)"
   ]
  },
  {
   "cell_type": "code",
   "execution_count": 100,
   "id": "b5fa1ff8",
   "metadata": {},
   "outputs": [
    {
     "data": {
      "text/html": [
       "<div>\n",
       "<style scoped>\n",
       "    .dataframe tbody tr th:only-of-type {\n",
       "        vertical-align: middle;\n",
       "    }\n",
       "\n",
       "    .dataframe tbody tr th {\n",
       "        vertical-align: top;\n",
       "    }\n",
       "\n",
       "    .dataframe thead th {\n",
       "        text-align: right;\n",
       "    }\n",
       "</style>\n",
       "<table border=\"1\" class=\"dataframe\">\n",
       "  <thead>\n",
       "    <tr style=\"text-align: right;\">\n",
       "      <th></th>\n",
       "      <th>texture_mean</th>\n",
       "      <th>concave points_mean</th>\n",
       "      <th>area_se</th>\n",
       "      <th>texture_worst</th>\n",
       "      <th>perimeter_worst</th>\n",
       "      <th>area_worst</th>\n",
       "      <th>concave points_worst</th>\n",
       "    </tr>\n",
       "  </thead>\n",
       "  <tbody>\n",
       "    <tr>\n",
       "      <th>texture_mean</th>\n",
       "      <td>1.000000</td>\n",
       "      <td>0.293464</td>\n",
       "      <td>0.259845</td>\n",
       "      <td>0.912045</td>\n",
       "      <td>0.358040</td>\n",
       "      <td>0.343546</td>\n",
       "      <td>0.295316</td>\n",
       "    </tr>\n",
       "    <tr>\n",
       "      <th>concave points_mean</th>\n",
       "      <td>0.293464</td>\n",
       "      <td>1.000000</td>\n",
       "      <td>0.690299</td>\n",
       "      <td>0.292752</td>\n",
       "      <td>0.855923</td>\n",
       "      <td>0.809630</td>\n",
       "      <td>0.910155</td>\n",
       "    </tr>\n",
       "    <tr>\n",
       "      <th>area_se</th>\n",
       "      <td>0.259845</td>\n",
       "      <td>0.690299</td>\n",
       "      <td>1.000000</td>\n",
       "      <td>0.196497</td>\n",
       "      <td>0.761213</td>\n",
       "      <td>0.811408</td>\n",
       "      <td>0.538166</td>\n",
       "    </tr>\n",
       "    <tr>\n",
       "      <th>texture_worst</th>\n",
       "      <td>0.912045</td>\n",
       "      <td>0.292752</td>\n",
       "      <td>0.196497</td>\n",
       "      <td>1.000000</td>\n",
       "      <td>0.365098</td>\n",
       "      <td>0.345842</td>\n",
       "      <td>0.359755</td>\n",
       "    </tr>\n",
       "    <tr>\n",
       "      <th>perimeter_worst</th>\n",
       "      <td>0.358040</td>\n",
       "      <td>0.855923</td>\n",
       "      <td>0.761213</td>\n",
       "      <td>0.365098</td>\n",
       "      <td>1.000000</td>\n",
       "      <td>0.977578</td>\n",
       "      <td>0.816322</td>\n",
       "    </tr>\n",
       "    <tr>\n",
       "      <th>area_worst</th>\n",
       "      <td>0.343546</td>\n",
       "      <td>0.809630</td>\n",
       "      <td>0.811408</td>\n",
       "      <td>0.345842</td>\n",
       "      <td>0.977578</td>\n",
       "      <td>1.000000</td>\n",
       "      <td>0.747419</td>\n",
       "    </tr>\n",
       "    <tr>\n",
       "      <th>concave points_worst</th>\n",
       "      <td>0.295316</td>\n",
       "      <td>0.910155</td>\n",
       "      <td>0.538166</td>\n",
       "      <td>0.359755</td>\n",
       "      <td>0.816322</td>\n",
       "      <td>0.747419</td>\n",
       "      <td>1.000000</td>\n",
       "    </tr>\n",
       "  </tbody>\n",
       "</table>\n",
       "</div>"
      ],
      "text/plain": [
       "                      texture_mean  concave points_mean   area_se  \\\n",
       "texture_mean              1.000000             0.293464  0.259845   \n",
       "concave points_mean       0.293464             1.000000  0.690299   \n",
       "area_se                   0.259845             0.690299  1.000000   \n",
       "texture_worst             0.912045             0.292752  0.196497   \n",
       "perimeter_worst           0.358040             0.855923  0.761213   \n",
       "area_worst                0.343546             0.809630  0.811408   \n",
       "concave points_worst      0.295316             0.910155  0.538166   \n",
       "\n",
       "                      texture_worst  perimeter_worst  area_worst  \\\n",
       "texture_mean               0.912045         0.358040    0.343546   \n",
       "concave points_mean        0.292752         0.855923    0.809630   \n",
       "area_se                    0.196497         0.761213    0.811408   \n",
       "texture_worst              1.000000         0.365098    0.345842   \n",
       "perimeter_worst            0.365098         1.000000    0.977578   \n",
       "area_worst                 0.345842         0.977578    1.000000   \n",
       "concave points_worst       0.359755         0.816322    0.747419   \n",
       "\n",
       "                      concave points_worst  \n",
       "texture_mean                      0.295316  \n",
       "concave points_mean               0.910155  \n",
       "area_se                           0.538166  \n",
       "texture_worst                     0.359755  \n",
       "perimeter_worst                   0.816322  \n",
       "area_worst                        0.747419  \n",
       "concave points_worst              1.000000  "
      ]
     },
     "execution_count": 100,
     "metadata": {},
     "output_type": "execute_result"
    }
   ],
   "source": [
    "X_new.corr()"
   ]
  },
  {
   "cell_type": "code",
   "execution_count": 101,
   "id": "312d44ad",
   "metadata": {},
   "outputs": [
    {
     "data": {
      "image/png": "[encoded data removed]",
      "text/plain": [
       "<Figure size 1440x864 with 2 Axes>"
      ]
     },
     "metadata": {
      "needs_background": "light"
     },
     "output_type": "display_data"
    }
   ],
   "source": [
    "plt.figure(figsize = (20, 12))\n",
    "\n",
    "corr = X_new.corr()\n",
    "mask = np.triu(np.ones_like(corr, dtype = bool))\n",
    "\n",
    "sns.heatmap(corr, mask = mask, linewidths = 1, annot = True, fmt = \".2f\")\n",
    "plt.show()"
   ]
  },
  {
   "cell_type": "markdown",
   "id": "7c99eb7b",
   "metadata": {},
   "source": [
    "## Saving model"
   ]
  },
  {
   "cell_type": "code",
   "execution_count": 79,
   "id": "fc745c55",
   "metadata": {},
   "outputs": [],
   "source": [
    "import pickle"
   ]
  },
  {
   "cell_type": "code",
   "execution_count": 80,
   "id": "259788a4",
   "metadata": {},
   "outputs": [],
   "source": [
    "pickle.dump(lgbm_test,open('cancer.pkl','wb'))"
   ]
  },
  {
   "cell_type": "code",
   "execution_count": null,
   "id": "8ca77457",
   "metadata": {},
   "outputs": [],
   "source": []
  }
 ],
 "metadata": {
  "kernelspec": {
   "display_name": "Python 3",
   "language": "python",
   "name": "python3"
  },
  "language_info": {
   "codemirror_mode": {
    "name": "ipython",
    "version": 3
   },
   "file_extension": ".py",
   "mimetype": "text/x-python",
   "name": "python",
   "nbconvert_exporter": "python",
   "pygments_lexer": "ipython3",
   "version": "3.8.8"
  }
 },
 "nbformat": 4,
 "nbformat_minor": 5
}
